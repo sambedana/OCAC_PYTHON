{
 "cells": [
  {
   "cell_type": "markdown",
   "id": "a40beced-4bd2-42df-bea3-93f2b5a4c401",
   "metadata": {},
   "source": [
    "## Dictionaries"
   ]
  },
  {
   "cell_type": "code",
   "execution_count": 2,
   "id": "7b392136-a0ea-47da-9f6f-c5a812236021",
   "metadata": {},
   "outputs": [
    {
     "data": {
      "text/plain": [
       "dict"
      ]
     },
     "execution_count": 2,
     "metadata": {},
     "output_type": "execute_result"
    }
   ],
   "source": [
    "dic={}\n",
    "type(dic)"
   ]
  },
  {
   "cell_type": "code",
   "execution_count": 3,
   "id": "c33d1e6a-54ca-4e07-a7de-e98c5fc4b674",
   "metadata": {},
   "outputs": [
    {
     "name": "stdout",
     "output_type": "stream",
     "text": [
      "{}\n"
     ]
    }
   ],
   "source": [
    "print(dic)"
   ]
  },
  {
   "cell_type": "code",
   "execution_count": 4,
   "id": "a0fe6805-f7fa-455f-bcc7-a52e3de80730",
   "metadata": {},
   "outputs": [
    {
     "data": {
      "text/plain": [
       "dict"
      ]
     },
     "execution_count": 4,
     "metadata": {},
     "output_type": "execute_result"
    }
   ],
   "source": [
    "d=dict()\n",
    "type(d)"
   ]
  },
  {
   "cell_type": "code",
   "execution_count": 5,
   "id": "3775c324-ffc8-4815-aa5c-aaeb2026ad30",
   "metadata": {},
   "outputs": [
    {
     "name": "stdout",
     "output_type": "stream",
     "text": [
      "{}\n"
     ]
    }
   ],
   "source": [
    "print(d)"
   ]
  },
  {
   "cell_type": "code",
   "execution_count": 6,
   "id": "06f254fb-0964-44f8-9373-a9c090297199",
   "metadata": {},
   "outputs": [
    {
     "data": {
      "text/plain": [
       "dict"
      ]
     },
     "execution_count": 6,
     "metadata": {},
     "output_type": "execute_result"
    }
   ],
   "source": [
    "dict1={\"Car1\":\"Audi\",\"car2\":\"BMW\",\"car3\":\"Mercidies Benz\"}\n",
    "type(dict1)"
   ]
  },
  {
   "cell_type": "code",
   "execution_count": 7,
   "id": "e0960bbb-92c3-4de0-ac5c-774e183800af",
   "metadata": {},
   "outputs": [
    {
     "data": {
      "text/plain": [
       "'Audi'"
      ]
     },
     "execution_count": 7,
     "metadata": {},
     "output_type": "execute_result"
    }
   ],
   "source": [
    "## Access the item values based on keys\n",
    "dict1['Car1']"
   ]
  },
  {
   "cell_type": "code",
   "execution_count": 8,
   "id": "9796cdff-aae7-4175-bdf5-a81b05954ea7",
   "metadata": {},
   "outputs": [],
   "source": [
    "dict2={'key1':120,'key2':[1,2,3],'key3':(94,8,23),'key4':['item1','item2','item3']}"
   ]
  },
  {
   "cell_type": "code",
   "execution_count": 10,
   "id": "0c3387e2-5b8f-464f-8ada-c0ffa1a095c0",
   "metadata": {},
   "outputs": [
    {
     "data": {
      "text/plain": [
       "(94, 8, 23)"
      ]
     },
     "execution_count": 10,
     "metadata": {},
     "output_type": "execute_result"
    }
   ],
   "source": [
    "dict2['key3']"
   ]
  },
  {
   "cell_type": "code",
   "execution_count": 11,
   "id": "a0f1a1cf-8401-4720-bd4d-19245286c8d0",
   "metadata": {},
   "outputs": [
    {
     "data": {
      "text/plain": [
       "dict_keys(['key1', 'key2', 'key3', 'key4'])"
      ]
     },
     "execution_count": 11,
     "metadata": {},
     "output_type": "execute_result"
    }
   ],
   "source": [
    "dict2.keys()"
   ]
  },
  {
   "cell_type": "code",
   "execution_count": 12,
   "id": "3125af12-c633-471d-82e9-4c7bbc094ea9",
   "metadata": {},
   "outputs": [
    {
     "data": {
      "text/plain": [
       "dict_values([120, [1, 2, 3], (94, 8, 23), ['item1', 'item2', 'item3']])"
      ]
     },
     "execution_count": 12,
     "metadata": {},
     "output_type": "execute_result"
    }
   ],
   "source": [
    "dict2.values()"
   ]
  },
  {
   "cell_type": "code",
   "execution_count": 13,
   "id": "92a60772-2260-45c3-aeb0-557cad00245e",
   "metadata": {},
   "outputs": [
    {
     "data": {
      "text/plain": [
       "dict_items([('key1', 120), ('key2', [1, 2, 3]), ('key3', (94, 8, 23)), ('key4', ['item1', 'item2', 'item3'])])"
      ]
     },
     "execution_count": 13,
     "metadata": {},
     "output_type": "execute_result"
    }
   ],
   "source": [
    "dict2.items()"
   ]
  },
  {
   "cell_type": "code",
   "execution_count": 15,
   "id": "2a58b4af-679d-4301-b817-365b9dcdfcfb",
   "metadata": {},
   "outputs": [],
   "source": [
    "##Adding items in Dictionaries\n",
    "dict1['car4']='Kia'"
   ]
  },
  {
   "cell_type": "code",
   "execution_count": 16,
   "id": "a771d44a-fa21-418c-90fe-f92abf82b85a",
   "metadata": {},
   "outputs": [
    {
     "data": {
      "text/plain": [
       "{'Car1': 'Audi', 'car2': 'BMW', 'car3': 'Mercidies Benz', 'car4': 'Kia'}"
      ]
     },
     "execution_count": 16,
     "metadata": {},
     "output_type": "execute_result"
    }
   ],
   "source": [
    "dict1"
   ]
  },
  {
   "cell_type": "code",
   "execution_count": 17,
   "id": "49f300ea-c415-4150-adf6-1b7d6beaca5d",
   "metadata": {},
   "outputs": [],
   "source": [
    "dict1['car1']='Maruti'"
   ]
  },
  {
   "cell_type": "code",
   "execution_count": 18,
   "id": "f311f0f0-70ab-4109-8667-830f34f26c0c",
   "metadata": {},
   "outputs": [
    {
     "data": {
      "text/plain": [
       "{'Car1': 'Audi',\n",
       " 'car2': 'BMW',\n",
       " 'car3': 'Mercidies Benz',\n",
       " 'car4': 'Kia',\n",
       " 'car1': 'Maruti'}"
      ]
     },
     "execution_count": 18,
     "metadata": {},
     "output_type": "execute_result"
    }
   ],
   "source": [
    "dict1"
   ]
  },
  {
   "cell_type": "markdown",
   "id": "5d3f6216-a5c7-4fe9-9aa9-5d109e10bb6f",
   "metadata": {},
   "source": [
    "### Nested Dictionary"
   ]
  },
  {
   "cell_type": "code",
   "execution_count": 19,
   "id": "12eaefd1-76e6-482e-8472-bd13d6f385be",
   "metadata": {},
   "outputs": [],
   "source": [
    "Fruit1_name={'Apple':10}\n",
    "Fruit2_name={'Kiwi':20}\n",
    "Fruit3_name={'Mango':30}\n",
    "Fruit_type={'Fruit1':Fruit1_name,'Fruit2':Fruit2_name,'Fruit3':Fruit3_name}"
   ]
  },
  {
   "cell_type": "code",
   "execution_count": 20,
   "id": "e4e762d8-30e0-4c2e-853e-bd0197281817",
   "metadata": {},
   "outputs": [
    {
     "name": "stdout",
     "output_type": "stream",
     "text": [
      "{'Fruit1': {'Apple': 10}, 'Fruit2': {'Kiwi': 20}, 'Fruit3': {'Mango': 30}}\n"
     ]
    }
   ],
   "source": [
    "print(Fruit_type)"
   ]
  },
  {
   "cell_type": "code",
   "execution_count": 24,
   "id": "99af8472-496b-499e-a637-ff8084b41540",
   "metadata": {},
   "outputs": [
    {
     "name": "stdout",
     "output_type": "stream",
     "text": [
      "{'Apple': 10}\n"
     ]
    }
   ],
   "source": [
    "print(Fruit_type['Fruit1'])"
   ]
  },
  {
   "cell_type": "code",
   "execution_count": 26,
   "id": "9f94bbc2-13de-4810-867c-6edcad48dee7",
   "metadata": {},
   "outputs": [
    {
     "name": "stdout",
     "output_type": "stream",
     "text": [
      "20\n"
     ]
    }
   ],
   "source": [
    "print(Fruit_type['Fruit2']['Kiwi'])"
   ]
  },
  {
   "cell_type": "code",
   "execution_count": 27,
   "id": "fb60edd9-6c84-455d-9f90-a3f54a103777",
   "metadata": {},
   "outputs": [],
   "source": [
    "marks={'Physics':80,'Chemistry':85,'Biology':90}"
   ]
  },
  {
   "cell_type": "code",
   "execution_count": 30,
   "id": "ef5d787c-13b1-47aa-b7c7-3bc8fbf28c87",
   "metadata": {},
   "outputs": [
    {
     "data": {
      "text/plain": [
       "{'Physics': 80, 'Chemistry': 85, 'Biology': 90, 'Math': 88}"
      ]
     },
     "execution_count": 30,
     "metadata": {},
     "output_type": "execute_result"
    }
   ],
   "source": [
    "#adding element\n",
    "marks['Math']=88\n",
    "marks"
   ]
  },
  {
   "cell_type": "code",
   "execution_count": 33,
   "id": "1b1fba09-20ac-4b01-8c26-768a8003435e",
   "metadata": {},
   "outputs": [
    {
     "data": {
      "text/plain": [
       "{'Physics': 80,\n",
       " 'Chemistry': 85,\n",
       " 'Biology': 90,\n",
       " 'Math': 88,\n",
       " 'English': 92,\n",
       " 'IT': 87}"
      ]
     },
     "execution_count": 33,
     "metadata": {},
     "output_type": "execute_result"
    }
   ],
   "source": [
    "marks.update({'English':92,'IT':87})\n",
    "marks"
   ]
  },
  {
   "cell_type": "code",
   "execution_count": 35,
   "id": "a2462efa-b4cf-4e5c-89c6-af8bec0c1a78",
   "metadata": {},
   "outputs": [
    {
     "data": {
      "text/plain": [
       "{'Physics': 80,\n",
       " 'Chemistry': 85,\n",
       " 'Biology': 90,\n",
       " 'Math': 95,\n",
       " 'English': 92,\n",
       " 'IT': 87}"
      ]
     },
     "execution_count": 35,
     "metadata": {},
     "output_type": "execute_result"
    }
   ],
   "source": [
    "marks['Math']=95\n",
    "marks"
   ]
  },
  {
   "cell_type": "code",
   "execution_count": 36,
   "id": "3f09f197-d8e9-4536-acf4-18d04b49e9a8",
   "metadata": {},
   "outputs": [
    {
     "data": {
      "text/plain": [
       "{'Physics': 80, 'Chemistry': 85, 'Math': 95, 'English': 92, 'IT': 87}"
      ]
     },
     "execution_count": 36,
     "metadata": {},
     "output_type": "execute_result"
    }
   ],
   "source": [
    "del marks['Biology']\n",
    "marks"
   ]
  },
  {
   "cell_type": "code",
   "execution_count": 37,
   "id": "39b98486-8db7-4991-a2a2-923723441383",
   "metadata": {},
   "outputs": [
    {
     "data": {
      "text/plain": [
       "{'key1': 120,\n",
       " 'key2': [1, 2, 3],\n",
       " 'key3': (94, 8, 23),\n",
       " 'key4': ['item1', 'item2', 'item3']}"
      ]
     },
     "execution_count": 37,
     "metadata": {},
     "output_type": "execute_result"
    }
   ],
   "source": [
    "dict2"
   ]
  },
  {
   "cell_type": "code",
   "execution_count": 39,
   "id": "7d461505-5753-4c39-a68a-e734fdf38546",
   "metadata": {},
   "outputs": [
    {
     "data": {
      "text/plain": [
       "{'key1': 120,\n",
       " 'key2': [1, 2, 3],\n",
       " 'key3': (94, 8, 23),\n",
       " 'key4': ['item1', 'item2']}"
      ]
     },
     "execution_count": 39,
     "metadata": {},
     "output_type": "execute_result"
    }
   ],
   "source": [
    "del dict2['key4'][2]\n",
    "dict2"
   ]
  },
  {
   "cell_type": "code",
   "execution_count": 40,
   "id": "813d0811-2573-4121-bc64-366d7b5e27be",
   "metadata": {},
   "outputs": [
    {
     "data": {
      "text/plain": [
       "(94, 8, 23)"
      ]
     },
     "execution_count": 40,
     "metadata": {},
     "output_type": "execute_result"
    }
   ],
   "source": [
    "dict2.pop('key3')"
   ]
  },
  {
   "cell_type": "code",
   "execution_count": 41,
   "id": "94be2ac7-0505-45fd-90f3-29e94a555031",
   "metadata": {},
   "outputs": [
    {
     "data": {
      "text/plain": [
       "{'key1': 120, 'key2': [1, 2, 3], 'key4': ['item1', 'item2']}"
      ]
     },
     "execution_count": 41,
     "metadata": {},
     "output_type": "execute_result"
    }
   ],
   "source": [
    "dict2"
   ]
  },
  {
   "cell_type": "code",
   "execution_count": 42,
   "id": "7c6061f4-fb88-4e2c-9038-f0e8bae139e4",
   "metadata": {},
   "outputs": [],
   "source": [
    "mix_dict={3:5,2:'stringvalue','name':['sam','ram'],'key4':['Audi',3.8,'a',88]}"
   ]
  },
  {
   "cell_type": "code",
   "execution_count": 43,
   "id": "f1afddab-3690-4894-baec-92d9ef4b5317",
   "metadata": {},
   "outputs": [
    {
     "data": {
      "text/plain": [
       "4"
      ]
     },
     "execution_count": 43,
     "metadata": {},
     "output_type": "execute_result"
    }
   ],
   "source": [
    "len(mix_dict)"
   ]
  },
  {
   "cell_type": "code",
   "execution_count": 45,
   "id": "d3591f8e-2f86-4afc-9053-ed274a8f8d3b",
   "metadata": {},
   "outputs": [
    {
     "data": {
      "text/plain": [
       "['Audi', 3.8, 'a', 88]"
      ]
     },
     "execution_count": 45,
     "metadata": {},
     "output_type": "execute_result"
    }
   ],
   "source": [
    "mix_dict['key4']"
   ]
  },
  {
   "cell_type": "code",
   "execution_count": 46,
   "id": "52ed4792-f4d8-4bc7-937b-9e77f6f8a080",
   "metadata": {},
   "outputs": [
    {
     "data": {
      "text/plain": [
       "['sam', 'ram']"
      ]
     },
     "execution_count": 46,
     "metadata": {},
     "output_type": "execute_result"
    }
   ],
   "source": [
    "mix_dict['name']"
   ]
  },
  {
   "cell_type": "code",
   "execution_count": 47,
   "id": "524207fa-d8fc-46ae-a20c-45db6ab50f14",
   "metadata": {},
   "outputs": [
    {
     "data": {
      "text/plain": [
       "88"
      ]
     },
     "execution_count": 47,
     "metadata": {},
     "output_type": "execute_result"
    }
   ],
   "source": [
    "mix_dict['key4'][3]"
   ]
  }
 ],
 "metadata": {
  "kernelspec": {
   "display_name": "Python 3 (ipykernel)",
   "language": "python",
   "name": "python3"
  },
  "language_info": {
   "codemirror_mode": {
    "name": "ipython",
    "version": 3
   },
   "file_extension": ".py",
   "mimetype": "text/x-python",
   "name": "python",
   "nbconvert_exporter": "python",
   "pygments_lexer": "ipython3",
   "version": "3.11.7"
  }
 },
 "nbformat": 4,
 "nbformat_minor": 5
}
