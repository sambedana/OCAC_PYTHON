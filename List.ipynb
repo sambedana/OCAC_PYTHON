{
 "cells": [
  {
   "cell_type": "code",
   "execution_count": 1,
   "id": "f83c784d-5805-4880-b039-7ba31a77fc7f",
   "metadata": {},
   "outputs": [
    {
     "data": {
      "text/plain": [
       "range(0, 10)"
      ]
     },
     "execution_count": 1,
     "metadata": {},
     "output_type": "execute_result"
    }
   ],
   "source": [
    "range(10)"
   ]
  },
  {
   "cell_type": "code",
   "execution_count": 2,
   "id": "48c70b4a-88af-4079-b631-118aedec13ff",
   "metadata": {},
   "outputs": [
    {
     "data": {
      "text/plain": [
       "[0, 1, 2, 3, 4, 5, 6, 7, 8, 9]"
      ]
     },
     "execution_count": 2,
     "metadata": {},
     "output_type": "execute_result"
    }
   ],
   "source": [
    "list(range(10))"
   ]
  },
  {
   "cell_type": "code",
   "execution_count": 3,
   "id": "f63f3d6e-20c1-4956-9891-2ad179866a0d",
   "metadata": {},
   "outputs": [
    {
     "data": {
      "text/plain": [
       "[0, 1, 2, 3, 4, 5, 6, 7, 8, 9]"
      ]
     },
     "execution_count": 3,
     "metadata": {},
     "output_type": "execute_result"
    }
   ],
   "source": [
    "list(range(10))"
   ]
  },
  {
   "cell_type": "code",
   "execution_count": 4,
   "id": "acbc0a4a-69c1-4320-997b-d5ad2f69c6b3",
   "metadata": {},
   "outputs": [
    {
     "data": {
      "text/plain": [
       "[1, 2, 3, 4, 5, 6, 7, 8, 9, 10]"
      ]
     },
     "execution_count": 4,
     "metadata": {},
     "output_type": "execute_result"
    }
   ],
   "source": [
    "list(range(1,11))\n"
   ]
  },
  {
   "cell_type": "code",
   "execution_count": 6,
   "id": "31f597c5-ae5f-4339-af92-625c44cb70cb",
   "metadata": {},
   "outputs": [
    {
     "name": "stdout",
     "output_type": "stream",
     "text": [
      "[1, 3, 5, 7, 9]\n"
     ]
    }
   ],
   "source": [
    "print(list(range(1,11,2)))"
   ]
  },
  {
   "cell_type": "code",
   "execution_count": 7,
   "id": "5927e172-5e68-465c-ba6e-028a89c9ccea",
   "metadata": {},
   "outputs": [
    {
     "name": "stdout",
     "output_type": "stream",
     "text": [
      "[8, 7, 6, 5, 4, 3]\n"
     ]
    }
   ],
   "source": [
    "print(list(range(8,2,-1)))"
   ]
  },
  {
   "cell_type": "code",
   "execution_count": 8,
   "id": "8e81a1af-bb86-41f7-ad66-317d4575aa14",
   "metadata": {},
   "outputs": [
    {
     "name": "stdout",
     "output_type": "stream",
     "text": [
      "[100, 99, 98, 97, 96, 95, 94, 93, 92, 91, 90, 89, 88, 87, 86, 85, 84, 83, 82, 81, 80, 79, 78, 77, 76, 75, 74, 73, 72, 71, 70, 69, 68, 67, 66, 65, 64, 63, 62, 61, 60, 59, 58, 57, 56, 55, 54, 53, 52, 51, 50, 49, 48, 47, 46, 45, 44, 43, 42, 41, 40, 39, 38, 37, 36, 35, 34, 33, 32, 31, 30, 29, 28, 27, 26, 25, 24, 23, 22, 21, 20, 19, 18, 17, 16, 15, 14, 13, 12, 11, 10, 9, 8, 7, 6, 5, 4, 3, 2, 1]\n"
     ]
    }
   ],
   "source": [
    "print(list(range(100,0,-1)))"
   ]
  },
  {
   "cell_type": "code",
   "execution_count": 9,
   "id": "ffd0c3a6-efe5-4978-8148-513a31c29c19",
   "metadata": {},
   "outputs": [
    {
     "data": {
      "text/plain": [
       "[]"
      ]
     },
     "execution_count": 9,
     "metadata": {},
     "output_type": "execute_result"
    }
   ],
   "source": [
    "l=[]\n",
    "l"
   ]
  },
  {
   "cell_type": "code",
   "execution_count": 10,
   "id": "fcf5d778-58c4-4e30-bf1d-58898fd00fde",
   "metadata": {},
   "outputs": [
    {
     "data": {
      "text/plain": [
       "[]"
      ]
     },
     "execution_count": 10,
     "metadata": {},
     "output_type": "execute_result"
    }
   ],
   "source": [
    "l=list()\n",
    "l"
   ]
  },
  {
   "cell_type": "markdown",
   "id": "c812dfd7-5051-445f-8db5-7f1124f20d73",
   "metadata": {},
   "source": [
    "## List Creation"
   ]
  },
  {
   "cell_type": "code",
   "execution_count": 1,
   "id": "e6cd9280-35bb-4f93-a18b-086b5a9ad553",
   "metadata": {},
   "outputs": [
    {
     "data": {
      "text/plain": [
       "[2, 4, 6]"
      ]
     },
     "execution_count": 1,
     "metadata": {},
     "output_type": "execute_result"
    }
   ],
   "source": [
    "l=[2,4,6]\n",
    "l"
   ]
  },
  {
   "cell_type": "code",
   "execution_count": 4,
   "id": "2c8d8b2b-23d5-40e1-a791-409c9e11d7f7",
   "metadata": {},
   "outputs": [
    {
     "data": {
      "text/plain": [
       "list"
      ]
     },
     "execution_count": 4,
     "metadata": {},
     "output_type": "execute_result"
    }
   ],
   "source": [
    "type(l)"
   ]
  },
  {
   "cell_type": "code",
   "execution_count": 3,
   "id": "a8ab0419-ef1c-4930-9967-74b7f615187e",
   "metadata": {},
   "outputs": [
    {
     "data": {
      "text/plain": [
       "[1, 0.5, (2+5j), True, False, '40', 'sam']"
      ]
     },
     "execution_count": 3,
     "metadata": {},
     "output_type": "execute_result"
    }
   ],
   "source": [
    "li=[1,0.5,2+5j,True,False,'40','sam']\n",
    "li"
   ]
  },
  {
   "cell_type": "code",
   "execution_count": 6,
   "id": "f34adb4b-516c-4423-88be-5aad138e0a7b",
   "metadata": {},
   "outputs": [
    {
     "name": "stdout",
     "output_type": "stream",
     "text": [
      "[[1, 2], [3, 4], 1, 3]\n"
     ]
    }
   ],
   "source": [
    "lst =[[1,2],[3,4],1,3]\n",
    "print(lst)\n"
   ]
  },
  {
   "cell_type": "markdown",
   "id": "4fbaa9a5-c267-4d44-b7d3-8f83b02e82a3",
   "metadata": {},
   "source": [
    "### List Length"
   ]
  },
  {
   "cell_type": "code",
   "execution_count": 7,
   "id": "42c881cc-036f-4a34-98d5-7f73cc957030",
   "metadata": {},
   "outputs": [
    {
     "name": "stdout",
     "output_type": "stream",
     "text": [
      "8\n"
     ]
    }
   ],
   "source": [
    "lst1 = ['one' , 'two' , 'three' , 'four' , [2,3,4,5],6,7,[9,8]]\n",
    "print(len(lst1))"
   ]
  },
  {
   "cell_type": "markdown",
   "id": "d597ee38-fc6c-462b-a2d8-43433b5eb11c",
   "metadata": {},
   "source": [
    "### List Indexing"
   ]
  },
  {
   "cell_type": "code",
   "execution_count": 8,
   "id": "79fde7cf-397e-4cb6-a1af-022ef9a59021",
   "metadata": {},
   "outputs": [
    {
     "data": {
      "text/plain": [
       "67.5"
      ]
     },
     "execution_count": 8,
     "metadata": {},
     "output_type": "execute_result"
    }
   ],
   "source": [
    "list_1=[20,'sam','hi',67.5]\n",
    "list_1[3]"
   ]
  },
  {
   "cell_type": "code",
   "execution_count": 9,
   "id": "5c558e38-552e-441b-821d-e9672d3310ba",
   "metadata": {},
   "outputs": [
    {
     "data": {
      "text/plain": [
       "67.5"
      ]
     },
     "execution_count": 9,
     "metadata": {},
     "output_type": "execute_result"
    }
   ],
   "source": [
    "list_1[-1]"
   ]
  },
  {
   "cell_type": "code",
   "execution_count": 10,
   "id": "b8a8be71-8178-4b28-9b34-c1c22ff0b53a",
   "metadata": {},
   "outputs": [
    {
     "data": {
      "text/plain": [
       "[20, 40, 'hi', 67.5]"
      ]
     },
     "execution_count": 10,
     "metadata": {},
     "output_type": "execute_result"
    }
   ],
   "source": [
    "list_1[1]=40\n",
    "list_1 # List are mutable,value of a list can be altered."
   ]
  },
  {
   "cell_type": "markdown",
   "id": "5d806513-5a02-44c7-83a8-ba9e55d371df",
   "metadata": {},
   "source": [
    "### List Slicing"
   ]
  },
  {
   "cell_type": "code",
   "execution_count": 12,
   "id": "1fb704dd-513b-45cb-82f6-bf3e56dd8066",
   "metadata": {},
   "outputs": [
    {
     "name": "stdout",
     "output_type": "stream",
     "text": [
      "[10, 20, 30, 40, 50, 60]\n",
      "[10, 20, 30]\n",
      "[10, 20, 30, 40]\n",
      "[10, 30, 50]\n",
      "[30, 50]\n",
      "[60, 50, 40, 30, 20, 10]\n"
     ]
    }
   ],
   "source": [
    "List2=[10,20,30,40,50,60]\n",
    "print(List2[:])\n",
    "print(List2[0:3])\n",
    "print(List2[:4])\n",
    "print(List2[::2])\n",
    "print(List2[2::2])\n",
    "print(List2[-1::-1])\n"
   ]
  },
  {
   "cell_type": "code",
   "execution_count": 13,
   "id": "142c7f3d-1885-4dbd-8db0-902831bff74b",
   "metadata": {},
   "outputs": [
    {
     "data": {
      "text/plain": [
       "4"
      ]
     },
     "execution_count": 13,
     "metadata": {},
     "output_type": "execute_result"
    }
   ],
   "source": [
    "num1=[1,2,3,[4,5,['sam',3,70]]]\n",
    "len(num1)"
   ]
  },
  {
   "cell_type": "code",
   "execution_count": 20,
   "id": "75b9d917-c212-4e1a-ac48-0a33e216456c",
   "metadata": {},
   "outputs": [
    {
     "data": {
      "text/plain": [
       "4"
      ]
     },
     "execution_count": 20,
     "metadata": {},
     "output_type": "execute_result"
    }
   ],
   "source": [
    "num1=[1,2,3,[4,5,['sam',3,70]]]\n",
    "len(num1)"
   ]
  },
  {
   "cell_type": "code",
   "execution_count": 21,
   "id": "a77bd076-2517-4764-9b0c-782e7fc3abd0",
   "metadata": {},
   "outputs": [
    {
     "data": {
      "text/plain": [
       "3"
      ]
     },
     "execution_count": 21,
     "metadata": {},
     "output_type": "execute_result"
    }
   ],
   "source": [
    "num1[3][2][1]"
   ]
  },
  {
   "cell_type": "code",
   "execution_count": 22,
   "id": "c2b12863-b648-4c02-a0bb-6727a0c84ad4",
   "metadata": {},
   "outputs": [],
   "source": [
    "list=[1,2,[3,4],[5,[100,200,['hello'],23,11],1,7]]"
   ]
  },
  {
   "cell_type": "code",
   "execution_count": 23,
   "id": "83faacb7-e506-4b16-bfca-e9c5d32b139c",
   "metadata": {},
   "outputs": [
    {
     "data": {
      "text/plain": [
       "'hello'"
      ]
     },
     "execution_count": 23,
     "metadata": {},
     "output_type": "execute_result"
    }
   ],
   "source": [
    "list[3][1][2][0]"
   ]
  },
  {
   "cell_type": "code",
   "execution_count": 24,
   "id": "a724705e-5408-4e6f-aa4d-1ffb76bd25e7",
   "metadata": {},
   "outputs": [
    {
     "data": {
      "text/plain": [
       "1"
      ]
     },
     "execution_count": 24,
     "metadata": {},
     "output_type": "execute_result"
    }
   ],
   "source": [
    "list[3][2]"
   ]
  },
  {
   "cell_type": "code",
   "execution_count": 25,
   "id": "a7f14b6b-4b7a-4fd4-9258-75d90836671d",
   "metadata": {},
   "outputs": [
    {
     "data": {
      "text/plain": [
       "[1, 2, [3, 4], [5, [100, 200, ['hello'], 23, 11], 90, 7]]"
      ]
     },
     "execution_count": 25,
     "metadata": {},
     "output_type": "execute_result"
    }
   ],
   "source": [
    "list[3][2]=90\n",
    "list"
   ]
  },
  {
   "cell_type": "markdown",
   "id": "585b7c0f-65ed-4d66-a8c9-00978c1d7d8e",
   "metadata": {},
   "source": [
    "### List concatenation"
   ]
  },
  {
   "cell_type": "code",
   "execution_count": 26,
   "id": "9fb6bd05-5c65-4c8f-94ae-457aeabc0e2b",
   "metadata": {},
   "outputs": [
    {
     "data": {
      "text/plain": [
       "['ram', 'sam', 40.5, 'a', 'b', 'c']"
      ]
     },
     "execution_count": 26,
     "metadata": {},
     "output_type": "execute_result"
    }
   ],
   "source": [
    "A1=['ram','sam',40.5]\n",
    "A2=['a','b','c']\n",
    "A1+A2"
   ]
  },
  {
   "cell_type": "markdown",
   "id": "c05d2697-cba6-4ea6-8974-4c0f656e27df",
   "metadata": {},
   "source": [
    "### List Methods - List inbuilt functions"
   ]
  },
  {
   "cell_type": "markdown",
   "id": "6049b2c6-1f61-4a22-9226-83f1e0844340",
   "metadata": {},
   "source": [
    "## Append"
   ]
  },
  {
   "cell_type": "code",
   "execution_count": 1,
   "id": "0aa29ac5-b9bb-4ee4-b742-e02d7dd5b314",
   "metadata": {},
   "outputs": [
    {
     "data": {
      "text/plain": [
       "['a', 'an', 'he', 'she']"
      ]
     },
     "execution_count": 1,
     "metadata": {},
     "output_type": "execute_result"
    }
   ],
   "source": [
    "List=['a','an','he']\n",
    "List.append('she')\n",
    "List"
   ]
  },
  {
   "cell_type": "code",
   "execution_count": 2,
   "id": "f0a1a262-e5db-4225-b2a8-c61ec3f67d19",
   "metadata": {},
   "outputs": [
    {
     "data": {
      "text/plain": [
       "[1, 2, 3, [6, 7], [0, 5]]"
      ]
     },
     "execution_count": 2,
     "metadata": {},
     "output_type": "execute_result"
    }
   ],
   "source": [
    "list=[1,2,3,[6,7]]\n",
    "list.append([0,5])\n",
    "list"
   ]
  },
  {
   "cell_type": "markdown",
   "id": "92178864-a131-40ee-bb74-f6388ae621f4",
   "metadata": {},
   "source": [
    "## Extend"
   ]
  },
  {
   "cell_type": "code",
   "execution_count": 4,
   "id": "849dae50-d5f4-4f10-b2a1-4d8a1f5d51ee",
   "metadata": {},
   "outputs": [
    {
     "data": {
      "text/plain": [
       "[4, 5, 6, 7, 5, 5]"
      ]
     },
     "execution_count": 4,
     "metadata": {},
     "output_type": "execute_result"
    }
   ],
   "source": [
    "list=[4,5,6,7]\n",
    "list.extend([5,5]) #same as concatenation\n",
    "list"
   ]
  },
  {
   "cell_type": "markdown",
   "id": "52eb880c-9fbf-4688-af91-2546241639d8",
   "metadata": {},
   "source": [
    "### Insert"
   ]
  },
  {
   "cell_type": "code",
   "execution_count": 5,
   "id": "5bb073fc-1294-4f4c-8044-1e77f34f083e",
   "metadata": {},
   "outputs": [
    {
     "data": {
      "text/plain": [
       "['one', 'two', 'three', 'four']"
      ]
     },
     "execution_count": 5,
     "metadata": {},
     "output_type": "execute_result"
    }
   ],
   "source": [
    "list1=['one','two','four']\n",
    "list1.insert(2,'three')\n",
    "list1"
   ]
  },
  {
   "cell_type": "markdown",
   "id": "0324d610-4eb3-4bc1-87e9-2f0402c22ebd",
   "metadata": {},
   "source": [
    "## Remove"
   ]
  },
  {
   "cell_type": "code",
   "execution_count": 6,
   "id": "e9203475-4695-4ed5-b28a-6958e0fcab04",
   "metadata": {},
   "outputs": [
    {
     "data": {
      "text/plain": [
       "[10, 30, 40, 50, 60, 70, 80, 90]"
      ]
     },
     "execution_count": 6,
     "metadata": {},
     "output_type": "execute_result"
    }
   ],
   "source": [
    "numbers=[10,20,30,40,50,60,70,80,90]\n",
    "numbers.remove(20)\n",
    "numbers"
   ]
  },
  {
   "cell_type": "code",
   "execution_count": 8,
   "id": "03bf9f78-12be-4608-adb8-d0e3a2be8767",
   "metadata": {},
   "outputs": [
    {
     "data": {
      "text/plain": [
       "[1, 2, 8, 65, 'me']"
      ]
     },
     "execution_count": 8,
     "metadata": {},
     "output_type": "execute_result"
    }
   ],
   "source": [
    "num=[1,2,[3,'sam',8],8,65,'me']\n",
    "num.remove(num[2])\n",
    "num"
   ]
  },
  {
   "cell_type": "markdown",
   "id": "5ff5b1be-985b-4778-91c0-eb6712dd338f",
   "metadata": {},
   "source": [
    "### Clear"
   ]
  },
  {
   "cell_type": "code",
   "execution_count": 9,
   "id": "e7633809-8c60-4447-b7b6-afb1f0001fb9",
   "metadata": {},
   "outputs": [
    {
     "name": "stdout",
     "output_type": "stream",
     "text": [
      "[]\n"
     ]
    }
   ],
   "source": [
    "#clear-clear all element in a list and return empty list.\n",
    "l=[7,8,9]\n",
    "l.clear()\n",
    "print(l)"
   ]
  },
  {
   "cell_type": "markdown",
   "id": "77ea24b6-c1bf-4636-9522-971dacc4457d",
   "metadata": {},
   "source": [
    "### POP"
   ]
  },
  {
   "cell_type": "code",
   "execution_count": 10,
   "id": "1a0d70fe-b33c-4569-b5d7-790f26908f53",
   "metadata": {},
   "outputs": [
    {
     "data": {
      "text/plain": [
       "[6, 6, 6, 6, 7, 7]"
      ]
     },
     "execution_count": 10,
     "metadata": {},
     "output_type": "execute_result"
    }
   ],
   "source": [
    "list=[6,6,6,6,7,7,8]\n",
    "list.pop()\n",
    "list"
   ]
  },
  {
   "cell_type": "code",
   "execution_count": 11,
   "id": "b2e1f614-2e08-43ca-9e03-424ed62bd6d8",
   "metadata": {},
   "outputs": [
    {
     "data": {
      "text/plain": [
       "[5, 6, 7, 'two']"
      ]
     },
     "execution_count": 11,
     "metadata": {},
     "output_type": "execute_result"
    }
   ],
   "source": [
    "list=[5,6,7,'one','two']\n",
    "list.pop(3)\n",
    "list"
   ]
  },
  {
   "cell_type": "markdown",
   "id": "84ec55b9-c74d-4da8-9ab1-b6930844f059",
   "metadata": {},
   "source": [
    "## Delete"
   ]
  },
  {
   "cell_type": "code",
   "execution_count": 12,
   "id": "8f988558-550b-4acf-ab27-f3165ca4c903",
   "metadata": {},
   "outputs": [
    {
     "name": "stdout",
     "output_type": "stream",
     "text": [
      "['is', 'a', 'boy']\n"
     ]
    }
   ],
   "source": [
    "list=['he','is','a','boy']\n",
    "del list[0]\n",
    "print(list)"
   ]
  },
  {
   "cell_type": "code",
   "execution_count": 13,
   "id": "9cd02961-ebfa-43e1-98e7-03a444d5b2dc",
   "metadata": {},
   "outputs": [
    {
     "data": {
      "text/plain": [
       "[10, 14, 15, 16, 17, 18]"
      ]
     },
     "execution_count": 13,
     "metadata": {},
     "output_type": "execute_result"
    }
   ],
   "source": [
    "marks=[10,11,12,13,14,15,16,17,18]\n",
    "del marks[1:4]\n",
    "marks"
   ]
  },
  {
   "cell_type": "markdown",
   "id": "04c19ea9-63d3-48b9-823b-e37eb677f2be",
   "metadata": {},
   "source": [
    "### Reverse"
   ]
  },
  {
   "cell_type": "code",
   "execution_count": 14,
   "id": "1f2170e3-a928-4026-986d-d323cc183ff4",
   "metadata": {},
   "outputs": [
    {
     "data": {
      "text/plain": [
       "['girl', 'good', 'a', 'is', 'she']"
      ]
     },
     "execution_count": 14,
     "metadata": {},
     "output_type": "execute_result"
    }
   ],
   "source": [
    "list = ['she', 'is','a','good','girl']\n",
    "list.reverse()\n",
    "list\n",
    "\n"
   ]
  },
  {
   "cell_type": "markdown",
   "id": "8cd89c17-6017-4077-bfd2-1341f7f52296",
   "metadata": {},
   "source": [
    "### Sorting"
   ]
  },
  {
   "cell_type": "code",
   "execution_count": 15,
   "id": "66627755-7462-461d-b58f-a39e23cd14e5",
   "metadata": {},
   "outputs": [
    {
     "data": {
      "text/plain": [
       "[0, 1, 3, 4, 7, 9]"
      ]
     },
     "execution_count": 15,
     "metadata": {},
     "output_type": "execute_result"
    }
   ],
   "source": [
    "list1=[4,9,0,7,3,1]\n",
    "sorted(list1)"
   ]
  },
  {
   "cell_type": "code",
   "execution_count": 16,
   "id": "7cefbe56-f3cf-484b-a8fc-a6f73dde92bc",
   "metadata": {},
   "outputs": [
    {
     "data": {
      "text/plain": [
       "[9, 7, 4, 3, 1, 0]"
      ]
     },
     "execution_count": 16,
     "metadata": {},
     "output_type": "execute_result"
    }
   ],
   "source": [
    "sorted(list1,reverse=True)"
   ]
  },
  {
   "cell_type": "code",
   "execution_count": 19,
   "id": "1d48d031-e0df-4e89-bbf7-c9e1bbd5d69e",
   "metadata": {},
   "outputs": [
    {
     "data": {
      "text/plain": [
       "[2.3, 4.4, 4.6, 7, 9]"
      ]
     },
     "execution_count": 19,
     "metadata": {},
     "output_type": "execute_result"
    }
   ],
   "source": [
    "list2=[7,4.4,2.3,9,4.6]\n",
    "list2.sort()\n",
    "list2\n"
   ]
  },
  {
   "cell_type": "code",
   "execution_count": 20,
   "id": "6d311af5-484a-4c55-ab07-f68f592a3a2f",
   "metadata": {},
   "outputs": [
    {
     "ename": "TypeError",
     "evalue": "'<' not supported between instances of 'str' and 'int'",
     "output_type": "error",
     "traceback": [
      "\u001b[1;31m---------------------------------------------------------------------------\u001b[0m",
      "\u001b[1;31mTypeError\u001b[0m                                 Traceback (most recent call last)",
      "Cell \u001b[1;32mIn[20], line 3\u001b[0m\n\u001b[0;32m      1\u001b[0m \u001b[38;5;66;03m#sort is applicable for either only alphabet or only numeric values only.\u001b[39;00m\n\u001b[0;32m      2\u001b[0m list3\u001b[38;5;241m=\u001b[39m[\u001b[38;5;241m1\u001b[39m,\u001b[38;5;241m37\u001b[39m,\u001b[38;5;241m89\u001b[39m,\u001b[38;5;124m'\u001b[39m\u001b[38;5;124ma\u001b[39m\u001b[38;5;124m'\u001b[39m,\u001b[38;5;124m'\u001b[39m\u001b[38;5;124mb\u001b[39m\u001b[38;5;124m'\u001b[39m,\u001b[38;5;241m8\u001b[39m]\n\u001b[1;32m----> 3\u001b[0m \u001b[38;5;28mprint\u001b[39m(list3\u001b[38;5;241m.\u001b[39msort())\n",
      "\u001b[1;31mTypeError\u001b[0m: '<' not supported between instances of 'str' and 'int'"
     ]
    }
   ],
   "source": [
    "#sort is applicable for either only alphabet or only numeric values only.\n",
    "list3=[1,37,89,'a','b',8]\n",
    "print(list3.sort())"
   ]
  },
  {
   "cell_type": "markdown",
   "id": "175da10c-439f-49a6-8e41-0a3502a956bb",
   "metadata": {},
   "source": [
    "### Count"
   ]
  },
  {
   "cell_type": "code",
   "execution_count": 21,
   "id": "cba39ab4-8872-45b7-89fd-e023293ad9a9",
   "metadata": {},
   "outputs": [
    {
     "name": "stdout",
     "output_type": "stream",
     "text": [
      "3\n",
      "2\n"
     ]
    }
   ],
   "source": [
    "list1=[3,5,8,6,3,2,4,6,3]\n",
    "print(list1.count(3))\n",
    "print(list1.count(6))"
   ]
  },
  {
   "cell_type": "markdown",
   "id": "b667c66b-5b60-4adc-a620-b44ada1043a1",
   "metadata": {},
   "source": [
    "### Copy"
   ]
  },
  {
   "cell_type": "code",
   "execution_count": 22,
   "id": "4e9c0c9d-def0-4af3-a8d6-dd4c12385c18",
   "metadata": {},
   "outputs": [
    {
     "name": "stdout",
     "output_type": "stream",
     "text": [
      "[1, 2, 3, 4, 5]\n",
      "[1, 2, 3, 4, 5]\n"
     ]
    }
   ],
   "source": [
    "#shallow copy\n",
    "l1=[1,2,3,4]\n",
    "l2=l1\n",
    "l2.append(5)\n",
    "print(l1)\n",
    "print(l2)"
   ]
  },
  {
   "cell_type": "code",
   "execution_count": 24,
   "id": "bd290fdf-3f70-466e-8090-ba025a7ddb4d",
   "metadata": {},
   "outputs": [
    {
     "name": "stdout",
     "output_type": "stream",
     "text": [
      "[1, 2, 3, 4, 5]\n",
      "[1, 2, 3, 4, 5, 6]\n"
     ]
    }
   ],
   "source": [
    "#Deep copy\n",
    "l1=[1,2,3,4,5]\n",
    "l2=l1.copy()\n",
    "l2.append(6)\n",
    "print(l1)\n",
    "print(l2)"
   ]
  },
  {
   "cell_type": "markdown",
   "id": "0f7cbed7-b8c7-43fe-9277-3eb0195f6096",
   "metadata": {},
   "source": [
    "### index"
   ]
  },
  {
   "cell_type": "code",
   "execution_count": 25,
   "id": "b7d23e7d-2dec-4a47-aebc-a6dc5b934744",
   "metadata": {},
   "outputs": [
    {
     "data": {
      "text/plain": [
       "0"
      ]
     },
     "execution_count": 25,
     "metadata": {},
     "output_type": "execute_result"
    }
   ],
   "source": [
    "list=[4,5,6]\n",
    "list.index(4)"
   ]
  },
  {
   "cell_type": "code",
   "execution_count": 26,
   "id": "d98ddfb1-0625-43fe-8f95-dc66e8d9b029",
   "metadata": {},
   "outputs": [
    {
     "data": {
      "text/plain": [
       "4"
      ]
     },
     "execution_count": 26,
     "metadata": {},
     "output_type": "execute_result"
    }
   ],
   "source": [
    "## Min\n",
    "min(list)"
   ]
  },
  {
   "cell_type": "code",
   "execution_count": 27,
   "id": "1c2efca9-d9b7-4b8b-819c-9f35f595dc23",
   "metadata": {},
   "outputs": [
    {
     "data": {
      "text/plain": [
       "6"
      ]
     },
     "execution_count": 27,
     "metadata": {},
     "output_type": "execute_result"
    }
   ],
   "source": [
    "## Max\n",
    "max(list)"
   ]
  },
  {
   "cell_type": "code",
   "execution_count": 28,
   "id": "dfb2708c-f407-44d5-847c-4a0f6e5da076",
   "metadata": {},
   "outputs": [
    {
     "data": {
      "text/plain": [
       "23"
      ]
     },
     "execution_count": 28,
     "metadata": {},
     "output_type": "execute_result"
    }
   ],
   "source": [
    "list=[3,5,6,9]\n",
    "sum(list)"
   ]
  }
 ],
 "metadata": {
  "kernelspec": {
   "display_name": "Python 3 (ipykernel)",
   "language": "python",
   "name": "python3"
  },
  "language_info": {
   "codemirror_mode": {
    "name": "ipython",
    "version": 3
   },
   "file_extension": ".py",
   "mimetype": "text/x-python",
   "name": "python",
   "nbconvert_exporter": "python",
   "pygments_lexer": "ipython3",
   "version": "3.11.7"
  }
 },
 "nbformat": 4,
 "nbformat_minor": 5
}
