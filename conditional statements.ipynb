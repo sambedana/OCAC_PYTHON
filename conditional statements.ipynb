{
 "cells": [
  {
   "cell_type": "markdown",
   "id": "e6082309-7af0-42d9-aa08-74930caefb5c",
   "metadata": {},
   "source": [
    "### If Block"
   ]
  },
  {
   "cell_type": "code",
   "execution_count": 1,
   "id": "75f78a1d-945c-43cf-8ddb-373647d9b219",
   "metadata": {},
   "outputs": [
    {
     "name": "stdout",
     "output_type": "stream",
     "text": [
      "Hi\n",
      "Ram\n"
     ]
    }
   ],
   "source": [
    "if 1<2:\n",
    "    print('Hi')\n",
    "    print('Ram')"
   ]
  },
  {
   "cell_type": "code",
   "execution_count": 2,
   "id": "d84fd63b-7f06-4420-8d96-993bd24c14bb",
   "metadata": {},
   "outputs": [],
   "source": [
    "if 1>2:\n",
    "    print('Hi')"
   ]
  },
  {
   "cell_type": "code",
   "execution_count": 3,
   "id": "94ea6b7a-ea30-4535-87f6-9fb25057ec29",
   "metadata": {},
   "outputs": [
    {
     "name": "stdout",
     "output_type": "stream",
     "text": [
      "Siva\n"
     ]
    }
   ],
   "source": [
    "if 1>2:\n",
    "    print('Hi')\n",
    "print('Siva')"
   ]
  },
  {
   "cell_type": "code",
   "execution_count": 5,
   "id": "ee1c105a-d181-44bf-8f7e-eff697ec6a4b",
   "metadata": {},
   "outputs": [
    {
     "name": "stdin",
     "output_type": "stream",
     "text": [
      "Enter your name: Micky\n"
     ]
    },
    {
     "name": "stdout",
     "output_type": "stream",
     "text": [
      "Good morning Micky\n"
     ]
    }
   ],
   "source": [
    "name1=input(\"Enter your name:\")\n",
    "if name1=='Micky' :\n",
    "    print(\"Good morning Micky\")"
   ]
  },
  {
   "cell_type": "markdown",
   "id": "66b6b8cd-ea8b-417a-a311-bb0a85bbd313",
   "metadata": {},
   "source": [
    "### If-else"
   ]
  },
  {
   "cell_type": "code",
   "execution_count": 1,
   "id": "a30db417-e665-44b2-8b8c-b8e4b3cb06da",
   "metadata": {},
   "outputs": [
    {
     "name": "stdout",
     "output_type": "stream",
     "text": [
      "Hi\n"
     ]
    }
   ],
   "source": [
    "if 1<2:\n",
    "    print('Hi')\n",
    "else:\n",
    "    print('Bye')\n"
   ]
  },
  {
   "cell_type": "code",
   "execution_count": 2,
   "id": "1fc7c3eb-aacf-48d2-ae63-c7dfd8caaf94",
   "metadata": {},
   "outputs": [
    {
     "name": "stdout",
     "output_type": "stream",
     "text": [
      "Bye\n"
     ]
    }
   ],
   "source": [
    "if 1>2:\n",
    "    print('Hi')\n",
    "else:\n",
    "    print('Bye')"
   ]
  },
  {
   "cell_type": "code",
   "execution_count": 5,
   "id": "48d78cca-9902-43bc-bd31-19b7b201b187",
   "metadata": {},
   "outputs": [
    {
     "name": "stdin",
     "output_type": "stream",
     "text": [
      "Enter a number 7\n"
     ]
    },
    {
     "name": "stdout",
     "output_type": "stream",
     "text": [
      "7 is odd number\n"
     ]
    }
   ],
   "source": [
    "## check  a no.is even or odd.\n",
    "x=int(input('Enter a number'))\n",
    "if (x%2==0):\n",
    "    print(x,'is even number')\n",
    "else:\n",
    "    print(x,'is odd number')"
   ]
  },
  {
   "cell_type": "code",
   "execution_count": 6,
   "id": "b7d89a55-3685-473c-8eaf-6d30acec08cd",
   "metadata": {},
   "outputs": [
    {
     "name": "stdout",
     "output_type": "stream",
     "text": [
      "Hi\n",
      "Hello\n"
     ]
    }
   ],
   "source": [
    "name= ['ram' , 'siva' , 'lisa' , 'micky']\n",
    "if 'siva' in name:\n",
    "    print('Hi')\n",
    "if 'alice' not in name:\n",
    "    print('Hello')\n",
    "    "
   ]
  },
  {
   "cell_type": "code",
   "execution_count": 7,
   "id": "afcb5d78-1f46-4151-b13b-3ef68c25b968",
   "metadata": {},
   "outputs": [
    {
     "name": "stdin",
     "output_type": "stream",
     "text": [
      "Enter a number 8\n"
     ]
    },
    {
     "name": "stdout",
     "output_type": "stream",
     "text": [
      "8 is positive\n"
     ]
    }
   ],
   "source": [
    "#given no.is positive or negative\n",
    "a=int(input(\"Enter a number\"))\n",
    "if (a>=0):\n",
    "    print(a,\"is positive\")\n",
    "else:\n",
    "    print(a,\"is negative\")\n",
    "      "
   ]
  },
  {
   "cell_type": "markdown",
   "id": "1605f3a6-0e5b-4fed-8d3d-c92e9e1444f7",
   "metadata": {},
   "source": [
    "### if -elif-else Syntax"
   ]
  },
  {
   "cell_type": "code",
   "execution_count": 1,
   "id": "d1e6d019-f9d5-4bfc-be30-47ab003eebbf",
   "metadata": {},
   "outputs": [
    {
     "name": "stdout",
     "output_type": "stream",
     "text": [
      "Hi\n"
     ]
    }
   ],
   "source": [
    "if 2==2:\n",
    "    print(\"Hi\")\n",
    "elif 3==3:\n",
    "    print(\"Hello\")\n"
   ]
  },
  {
   "cell_type": "code",
   "execution_count": 3,
   "id": "53afd777-6186-4d22-885e-9a5a958c4e54",
   "metadata": {},
   "outputs": [
    {
     "name": "stdout",
     "output_type": "stream",
     "text": [
      "Grade A\n"
     ]
    }
   ],
   "source": [
    "x=65\n",
    "if x>90:\n",
    "    print(\"Grade O\")\n",
    "elif(x>60):\n",
    "    print(\"Grade A\")\n",
    "elif(x>40):\n",
    "    print(\"Grade B\")\n",
    "else:\n",
    "    print(\"Grade F\")"
   ]
  },
  {
   "cell_type": "code",
   "execution_count": 4,
   "id": "aaef3d40-de69-4ec9-a7ab-dbd5d60d97ff",
   "metadata": {},
   "outputs": [
    {
     "name": "stdout",
     "output_type": "stream",
     "text": [
      "x is negative number\n",
      "I am in elif block\n"
     ]
    }
   ],
   "source": [
    "x=-89.67\n",
    "if ((x>0) or (x==-100)):\n",
    "    print(\"X is positive value or -100\")\n",
    "    print(\"I am in IF block\")\n",
    "elif(x<0):\n",
    "    print(\"x is negative number\")\n",
    "    print(\"I am in elif block\")\n",
    "else:\n",
    "    print(\"x is zero\")"
   ]
  },
  {
   "cell_type": "code",
   "execution_count": 5,
   "id": "a77b948a-d7b8-4304-8100-e48a641380cc",
   "metadata": {},
   "outputs": [
    {
     "name": "stdout",
     "output_type": "stream",
     "text": [
      "positive number\n",
      "Hello\n",
      "I am out of If block\n"
     ]
    }
   ],
   "source": [
    "x=40\n",
    "if x>0:\n",
    "    print(\"positive number\")\n",
    "    print(\"Hello\")\n",
    "elif x==0:\n",
    "    print(\"zero\")\n",
    "else:\n",
    "    print(\"negative number\")\n",
    "print(\"I am out of If block\")"
   ]
  },
  {
   "cell_type": "code",
   "execution_count": 7,
   "id": "04e6956a-ab00-4b9f-bb51-9db2df6fff19",
   "metadata": {},
   "outputs": [
    {
     "name": "stdout",
     "output_type": "stream",
     "text": [
      "All is well with the world\n"
     ]
    },
    {
     "name": "stderr",
     "output_type": "stream",
     "text": [
      "<>:1: SyntaxWarning: \"is\" with a literal. Did you mean \"==\"?\n",
      "<>:1: SyntaxWarning: \"is\" with a literal. Did you mean \"==\"?\n",
      "C:\\Users\\LENOVO\\AppData\\Local\\Temp\\ipykernel_21408\\628722777.py:1: SyntaxWarning: \"is\" with a literal. Did you mean \"==\"?\n",
      "  if 1 is 3:\n"
     ]
    }
   ],
   "source": [
    "if 1 is 3:\n",
    "    print(\"How did that happen?\")\n",
    "elif 1>3:\n",
    "    print(\"Not possible\")\n",
    "else:\n",
    "    print(\"All is well with the world\")"
   ]
  },
  {
   "cell_type": "code",
   "execution_count": 9,
   "id": "12e285d8-f434-4114-b921-9b8e5bddb0ef",
   "metadata": {},
   "outputs": [
    {
     "name": "stdin",
     "output_type": "stream",
     "text": [
      "Enter mark: 89\n"
     ]
    },
    {
     "name": "stdout",
     "output_type": "stream",
     "text": [
      "89 A grade\n"
     ]
    }
   ],
   "source": [
    "a=int(float(input(\"Enter mark:\")))\n",
    "if (a>85 and a<=100):\n",
    "    print(a,'A grade')\n",
    "elif(a<=85 and a>75):\n",
    "    print(a,'B grade')\n",
    "elif(a<=75 and a>65):\n",
    "    print(a,'C grade')\n",
    "elif(a<=65 and a>55):\n",
    "    print(a,'D grade')\n",
    "elif(a<=55 and a>45):\n",
    "    print(a,'E grade')\n",
    "else:\n",
    "    print(a,'Fail')\n",
    "            "
   ]
  },
  {
   "cell_type": "code",
   "execution_count": 10,
   "id": "ac9ca825-9780-46e5-95b1-62cfdeae2318",
   "metadata": {},
   "outputs": [
    {
     "name": "stdin",
     "output_type": "stream",
     "text": [
      "Enter first number: 5\n",
      "Enter second number: 4\n"
     ]
    },
    {
     "name": "stdout",
     "output_type": "stream",
     "text": [
      "Bigger number is: 5\n"
     ]
    }
   ],
   "source": [
    "## write a program to find largest of given 2 numbers from the input console?\n",
    "num1=int (input(\"Enter first number:\"))\n",
    "num2=int (input(\"Enter second number:\"))\n",
    "if num1>num2:\n",
    "    print(\"Bigger number is:\", num1)\n",
    "else:\n",
    "    print(\"Bigger number is :\",num2)\n"
   ]
  },
  {
   "cell_type": "code",
   "execution_count": 11,
   "id": "7883f708-ee48-4e5a-bed7-b185cfd163fb",
   "metadata": {},
   "outputs": [
    {
     "name": "stdin",
     "output_type": "stream",
     "text": [
      "Enter first number: 65\n",
      "Enter second number: 78\n",
      "Enter third number: 44\n"
     ]
    },
    {
     "name": "stdout",
     "output_type": "stream",
     "text": [
      "78 is largest\n"
     ]
    }
   ],
   "source": [
    "# write a program to find largest of given 3  number from the input console?\n",
    "num1=int(input(\"Enter first number:\"))\n",
    "num2=int(input(\"Enter second number:\"))\n",
    "num3=int(input(\"Enter third number:\"))\n",
    "if num1>num2 and num1>num3:\n",
    "    print(num1,\"is largest\")\n",
    "elif num2>num3:\n",
    "    print(num2,\"is largest\")\n",
    "else:\n",
    "    print(num3,\"is largest\")\n",
    "\n",
    "         "
   ]
  },
  {
   "cell_type": "code",
   "execution_count": 12,
   "id": "1bdc5731-7e68-4d0b-94ba-d7791c1e0d8e",
   "metadata": {},
   "outputs": [
    {
     "name": "stdin",
     "output_type": "stream",
     "text": [
      "Enter first string Micky\n",
      "Enter second string lisa\n"
     ]
    },
    {
     "name": "stdout",
     "output_type": "stream",
     "text": [
      "first string is less than second string\n"
     ]
    }
   ],
   "source": [
    "s1=input(\"Enter first string\")\n",
    "s2=input(\"Enter second string\")\n",
    "if s1 == s2:\n",
    "    print(\"Both string are equal\")\n",
    "elif s1<s2:\n",
    "    print(\"first string is less than second string\")\n",
    "else:\n",
    "    print(\"first string is greater than second string\")\n",
    "\n"
   ]
  },
  {
   "cell_type": "markdown",
   "id": "b9f41766-6b89-4e3d-843c-4588ec833b1c",
   "metadata": {},
   "source": [
    "### Nested if statements"
   ]
  },
  {
   "cell_type": "code",
   "execution_count": null,
   "id": "79238af0-d4d9-4640-9133-7ce69646cd89",
   "metadata": {},
   "outputs": [],
   "source": []
  }
 ],
 "metadata": {
  "kernelspec": {
   "display_name": "Python 3 (ipykernel)",
   "language": "python",
   "name": "python3"
  },
  "language_info": {
   "codemirror_mode": {
    "name": "ipython",
    "version": 3
   },
   "file_extension": ".py",
   "mimetype": "text/x-python",
   "name": "python",
   "nbconvert_exporter": "python",
   "pygments_lexer": "ipython3",
   "version": "3.11.7"
  }
 },
 "nbformat": 4,
 "nbformat_minor": 5
}
