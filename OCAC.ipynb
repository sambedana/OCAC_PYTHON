{
 "cells": [
  {
   "cell_type": "code",
   "execution_count": 5,
   "id": "eaacd233-45d1-45ce-a268-319ce06607a0",
   "metadata": {},
   "outputs": [
    {
     "name": "stdout",
     "output_type": "stream",
     "text": [
      "Hello world\n"
     ]
    }
   ],
   "source": [
    "print(\"Hello world\")"
   ]
  },
  {
   "cell_type": "code",
   "execution_count": 6,
   "id": "e362d762-e31f-4e5c-ba36-bbf7e1ea40d6",
   "metadata": {},
   "outputs": [
    {
     "name": "stdout",
     "output_type": "stream",
     "text": [
      "5\n"
     ]
    }
   ],
   "source": [
    "print(5)"
   ]
  },
  {
   "cell_type": "markdown",
   "id": "26dbdec4-4d8f-4216-ae53-e4ce49cb1feb",
   "metadata": {},
   "source": [
    "SHIFT + ENTER"
   ]
  },
  {
   "cell_type": "markdown",
   "id": "790d3a9c-5023-431a-af53-df0b6b52f0f3",
   "metadata": {},
   "source": [
    "## SHIFT+ENTER"
   ]
  },
  {
   "cell_type": "markdown",
   "id": "40d534f6-d610-4ac5-ba68-760d27ea3963",
   "metadata": {},
   "source": [
    "### OK"
   ]
  },
  {
   "cell_type": "code",
   "execution_count": 7,
   "id": "761620ed-cae8-4ea6-93e0-dbed8ae599e7",
   "metadata": {},
   "outputs": [
    {
     "data": {
      "text/plain": [
       "12"
      ]
     },
     "execution_count": 7,
     "metadata": {},
     "output_type": "execute_result"
    }
   ],
   "source": [
    "a=10\n",
    "b=2\n",
    "a+b"
   ]
  },
  {
   "cell_type": "code",
   "execution_count": 8,
   "id": "5818c42a-f2fe-4b4c-be73-470954f6d059",
   "metadata": {},
   "outputs": [
    {
     "data": {
      "text/plain": [
       "'C:\\\\Users\\\\LENOVO'"
      ]
     },
     "execution_count": 8,
     "metadata": {},
     "output_type": "execute_result"
    }
   ],
   "source": [
    "pwd"
   ]
  },
  {
   "cell_type": "code",
   "execution_count": 1,
   "id": "bfe9c060-2eb8-4a21-bd2a-633919ad7956",
   "metadata": {},
   "outputs": [
    {
     "data": {
      "text/plain": [
       "'NIELIT'"
      ]
     },
     "execution_count": 1,
     "metadata": {},
     "output_type": "execute_result"
    }
   ],
   "source": [
    "c='NIELIT'\n",
    "c"
   ]
  },
  {
   "cell_type": "code",
   "execution_count": 2,
   "id": "009e791c-f043-412d-a227-fe6c5a8a1879",
   "metadata": {},
   "outputs": [
    {
     "data": {
      "text/plain": [
       "50"
      ]
     },
     "execution_count": 2,
     "metadata": {},
     "output_type": "execute_result"
    }
   ],
   "source": [
    "a=50\n",
    "a"
   ]
  },
  {
   "cell_type": "code",
   "execution_count": 3,
   "id": "276c50ac-09e0-4a3e-ae85-e26d91eee364",
   "metadata": {},
   "outputs": [
    {
     "data": {
      "text/plain": [
       "int"
      ]
     },
     "execution_count": 3,
     "metadata": {},
     "output_type": "execute_result"
    }
   ],
   "source": [
    "type(a)"
   ]
  },
  {
   "cell_type": "code",
   "execution_count": 4,
   "id": "ed976181-e6bd-4563-934e-dc92eda802fa",
   "metadata": {},
   "outputs": [
    {
     "data": {
      "text/plain": [
       "90"
      ]
     },
     "execution_count": 4,
     "metadata": {},
     "output_type": "execute_result"
    }
   ],
   "source": [
    "ib=90\n",
    "ib"
   ]
  },
  {
   "cell_type": "code",
   "execution_count": 5,
   "id": "093db3c6-1e33-40fa-a8a0-724c76cccbc1",
   "metadata": {},
   "outputs": [
    {
     "data": {
      "text/plain": [
       "'90a'"
      ]
     },
     "execution_count": 5,
     "metadata": {},
     "output_type": "execute_result"
    }
   ],
   "source": [
    "cd=\"90a\"\n",
    "cd"
   ]
  },
  {
   "cell_type": "code",
   "execution_count": 6,
   "id": "00843fc0-a6da-4d3a-b8c6-99344c344f5a",
   "metadata": {},
   "outputs": [
    {
     "data": {
      "text/plain": [
       "str"
      ]
     },
     "execution_count": 6,
     "metadata": {},
     "output_type": "execute_result"
    }
   ],
   "source": [
    "type(cd)\n"
   ]
  },
  {
   "cell_type": "code",
   "execution_count": 7,
   "id": "9c331055-f5aa-4f41-ab88-df1eea803d39",
   "metadata": {},
   "outputs": [
    {
     "name": "stdout",
     "output_type": "stream",
     "text": [
      "['False', 'None', 'True', 'and', 'as', 'assert', 'async', 'await', 'break', 'class', 'continue', 'def', 'del', 'elif', 'else', 'except', 'finally', 'for', 'from', 'global', 'if', 'import', 'in', 'is', 'lambda', 'nonlocal', 'not', 'or', 'pass', 'raise', 'return', 'try', 'while', 'with', 'yield']\n"
     ]
    }
   ],
   "source": [
    "import keyword\n",
    "print(keyword.kwlist)"
   ]
  },
  {
   "cell_type": "code",
   "execution_count": 8,
   "id": "4ecfa1b9-2242-451f-9157-3195977068ea",
   "metadata": {},
   "outputs": [
    {
     "data": {
      "text/plain": [
       "35"
      ]
     },
     "execution_count": 8,
     "metadata": {},
     "output_type": "execute_result"
    }
   ],
   "source": [
    "len(keyword.kwlist)"
   ]
  },
  {
   "cell_type": "code",
   "execution_count": 9,
   "id": "760b577f-1bfc-4463-a623-656c81a39691",
   "metadata": {},
   "outputs": [
    {
     "ename": "SyntaxError",
     "evalue": "cannot assign to False (1135066024.py, line 1)",
     "output_type": "error",
     "traceback": [
      "\u001b[1;36m  Cell \u001b[1;32mIn[9], line 1\u001b[1;36m\u001b[0m\n\u001b[1;33m    False=\"9563\"\u001b[0m\n\u001b[1;37m    ^\u001b[0m\n\u001b[1;31mSyntaxError\u001b[0m\u001b[1;31m:\u001b[0m cannot assign to False\n"
     ]
    }
   ],
   "source": [
    "False=\"9563\"\n",
    "False"
   ]
  },
  {
   "cell_type": "code",
   "execution_count": 10,
   "id": "d7bc772f-689a-4790-9506-373095e3bb79",
   "metadata": {},
   "outputs": [
    {
     "data": {
      "text/plain": [
       "50"
      ]
     },
     "execution_count": 10,
     "metadata": {},
     "output_type": "execute_result"
    }
   ],
   "source": [
    "a1=50\n",
    "a1"
   ]
  },
  {
   "cell_type": "code",
   "execution_count": 11,
   "id": "7d067726-cb1f-413d-9009-b9e08bd1116f",
   "metadata": {},
   "outputs": [
    {
     "ename": "SyntaxError",
     "evalue": "invalid decimal literal (2952824020.py, line 1)",
     "output_type": "error",
     "traceback": [
      "\u001b[1;36m  Cell \u001b[1;32mIn[11], line 1\u001b[1;36m\u001b[0m\n\u001b[1;33m    1b=90\u001b[0m\n\u001b[1;37m    ^\u001b[0m\n\u001b[1;31mSyntaxError\u001b[0m\u001b[1;31m:\u001b[0m invalid decimal literal\n"
     ]
    }
   ],
   "source": [
    "1b=90\n",
    "1b"
   ]
  },
  {
   "cell_type": "code",
   "execution_count": 12,
   "id": "9855cbcc-597b-41d0-b0df-2e60d3024530",
   "metadata": {},
   "outputs": [
    {
     "ename": "SyntaxError",
     "evalue": "invalid syntax (2276968495.py, line 1)",
     "output_type": "error",
     "traceback": [
      "\u001b[1;36m  Cell \u001b[1;32mIn[12], line 1\u001b[1;36m\u001b[0m\n\u001b[1;33m    b$7 = 70\u001b[0m\n\u001b[1;37m     ^\u001b[0m\n\u001b[1;31mSyntaxError\u001b[0m\u001b[1;31m:\u001b[0m invalid syntax\n"
     ]
    }
   ],
   "source": [
    "b$7 = 70\n",
    "b$7"
   ]
  },
  {
   "cell_type": "code",
   "execution_count": 13,
   "id": "2358d9ca-a6a7-4c98-9330-c09923f2acb3",
   "metadata": {},
   "outputs": [
    {
     "data": {
      "text/plain": [
       "102"
      ]
     },
     "execution_count": 13,
     "metadata": {},
     "output_type": "execute_result"
    }
   ],
   "source": [
    "b_4 =102\n",
    "b_4"
   ]
  },
  {
   "cell_type": "code",
   "execution_count": 15,
   "id": "5b4e8a67-427a-44f6-940a-006ebef86c0c",
   "metadata": {},
   "outputs": [
    {
     "data": {
      "text/plain": [
       "140724581683144"
      ]
     },
     "execution_count": 15,
     "metadata": {},
     "output_type": "execute_result"
    }
   ],
   "source": [
    "#storageLocation\n",
    "id(b_4)"
   ]
  },
  {
   "cell_type": "code",
   "execution_count": 16,
   "id": "5b7872f2-be98-404b-9cb9-716683b07172",
   "metadata": {},
   "outputs": [
    {
     "data": {
      "text/plain": [
       "2148891706000"
      ]
     },
     "execution_count": 16,
     "metadata": {},
     "output_type": "execute_result"
    }
   ],
   "source": [
    "v=504\n",
    "v\n",
    "id(v)"
   ]
  },
  {
   "cell_type": "code",
   "execution_count": 17,
   "id": "166d91ad-c624-4963-8501-2ca632bf7aed",
   "metadata": {},
   "outputs": [
    {
     "data": {
      "text/plain": [
       "2148891705552"
      ]
     },
     "execution_count": 17,
     "metadata": {},
     "output_type": "execute_result"
    }
   ],
   "source": [
    "v=503\n",
    "id(v)\n",
    "\n"
   ]
  },
  {
   "cell_type": "code",
   "execution_count": 18,
   "id": "3a339fd5-418c-42d3-9671-d0eb2d37151e",
   "metadata": {},
   "outputs": [
    {
     "data": {
      "text/plain": [
       "140724581682728"
      ]
     },
     "execution_count": 18,
     "metadata": {},
     "output_type": "execute_result"
    }
   ],
   "source": [
    "b=89\n",
    "c=87\n",
    "id(b)"
   ]
  },
  {
   "cell_type": "code",
   "execution_count": 19,
   "id": "aa474da3-02c3-4031-bb79-83749ab913f1",
   "metadata": {},
   "outputs": [
    {
     "data": {
      "text/plain": [
       "140724581682664"
      ]
     },
     "execution_count": 19,
     "metadata": {},
     "output_type": "execute_result"
    }
   ],
   "source": [
    "id(c)"
   ]
  },
  {
   "cell_type": "code",
   "execution_count": 20,
   "id": "2236865d-286e-46cd-84be-890067fdd0d7",
   "metadata": {},
   "outputs": [
    {
     "data": {
      "text/plain": [
       "140724581682728"
      ]
     },
     "execution_count": 20,
     "metadata": {},
     "output_type": "execute_result"
    }
   ],
   "source": [
    "d=89\n",
    "id(d)"
   ]
  },
  {
   "cell_type": "code",
   "execution_count": 21,
   "id": "5e3ba61d-f964-449b-9a8d-0d5d447fc69e",
   "metadata": {},
   "outputs": [
    {
     "data": {
      "text/plain": [
       "140724581681576"
      ]
     },
     "execution_count": 21,
     "metadata": {},
     "output_type": "execute_result"
    }
   ],
   "source": [
    "d=53\n",
    "id(d)"
   ]
  },
  {
   "cell_type": "code",
   "execution_count": 22,
   "id": "77befd03-1212-4084-a3a2-2816ae43e6c2",
   "metadata": {},
   "outputs": [
    {
     "name": "stdout",
     "output_type": "stream",
     "text": [
      "The summation of two numbers are 40\n"
     ]
    }
   ],
   "source": [
    "a=10\n",
    "b=30\n",
    "sum=a+b\n",
    "print(\"The summation of two numbers are\",sum)"
   ]
  },
  {
   "cell_type": "code",
   "execution_count": 23,
   "id": "15c6407f-7099-4c07-9ce0-e66990d9ca23",
   "metadata": {},
   "outputs": [
    {
     "name": "stdout",
     "output_type": "stream",
     "text": [
      "The summation of two numbers are sum 40\n"
     ]
    }
   ],
   "source": [
    "a=10\n",
    "b=30\n",
    "sum=a+b\n",
    "print(\"The summation of two numbers are sum\",sum)"
   ]
  },
  {
   "cell_type": "code",
   "execution_count": 24,
   "id": "28f948a0-02d2-49cb-a5e0-266b4f4cad5a",
   "metadata": {},
   "outputs": [
    {
     "data": {
      "text/plain": [
       "('The summation of two numbers are', 40)"
      ]
     },
     "execution_count": 24,
     "metadata": {},
     "output_type": "execute_result"
    }
   ],
   "source": [
    "\"The summation of two numbers are\",sum"
   ]
  },
  {
   "cell_type": "code",
   "execution_count": 25,
   "id": "49c436bc-244a-48a9-947e-91192bcc335f",
   "metadata": {},
   "outputs": [
    {
     "data": {
      "text/plain": [
       "40"
      ]
     },
     "execution_count": 25,
     "metadata": {},
     "output_type": "execute_result"
    }
   ],
   "source": [
    "sum"
   ]
  },
  {
   "cell_type": "code",
   "execution_count": 27,
   "id": "7873c6ce-d5cd-4b95-aa74-850ff2a5b40d",
   "metadata": {},
   "outputs": [
    {
     "data": {
      "text/plain": [
       "7"
      ]
     },
     "execution_count": 27,
     "metadata": {},
     "output_type": "execute_result"
    }
   ],
   "source": [
    "a=b=c=7\n",
    "a"
   ]
  },
  {
   "cell_type": "code",
   "execution_count": 28,
   "id": "0dd7eb39-44e0-4984-9c4e-1f64647de275",
   "metadata": {},
   "outputs": [
    {
     "data": {
      "text/plain": [
       "7"
      ]
     },
     "execution_count": 28,
     "metadata": {},
     "output_type": "execute_result"
    }
   ],
   "source": [
    "b"
   ]
  },
  {
   "cell_type": "code",
   "execution_count": 29,
   "id": "788ff297-5614-4ea7-b49e-5f36d0279d7b",
   "metadata": {},
   "outputs": [
    {
     "data": {
      "text/plain": [
       "7"
      ]
     },
     "execution_count": 29,
     "metadata": {},
     "output_type": "execute_result"
    }
   ],
   "source": [
    "c"
   ]
  },
  {
   "cell_type": "code",
   "execution_count": 30,
   "id": "92b54227-1a4e-4b19-acf4-cd634a3cf843",
   "metadata": {},
   "outputs": [
    {
     "data": {
      "text/plain": [
       "7"
      ]
     },
     "execution_count": 30,
     "metadata": {},
     "output_type": "execute_result"
    }
   ],
   "source": [
    "a"
   ]
  },
  {
   "cell_type": "code",
   "execution_count": 31,
   "id": "5ed8feb8-c82e-4306-afa7-f6c38496fda7",
   "metadata": {},
   "outputs": [
    {
     "name": "stdout",
     "output_type": "stream",
     "text": [
      "87 65 43\n"
     ]
    }
   ],
   "source": [
    "a=87\n",
    "b=65\n",
    "c=43\n",
    "abc=87\n",
    "print(a,b,c)"
   ]
  },
  {
   "cell_type": "code",
   "execution_count": 32,
   "id": "0538dc22-fbc9-4d35-891f-346afe8cc756",
   "metadata": {},
   "outputs": [
    {
     "name": "stdout",
     "output_type": "stream",
     "text": [
      "87\n"
     ]
    }
   ],
   "source": [
    "print(abc)\n"
   ]
  },
  {
   "cell_type": "code",
   "execution_count": 33,
   "id": "4ae6c38b-f819-4eaf-9fa1-feeb3df1d057",
   "metadata": {},
   "outputs": [
    {
     "name": "stdout",
     "output_type": "stream",
     "text": [
      "64\n"
     ]
    }
   ],
   "source": [
    "a=64\n",
    "print(a)"
   ]
  },
  {
   "cell_type": "code",
   "execution_count": 34,
   "id": "aeefa40b-42df-4234-adf2-1aa428b8e190",
   "metadata": {},
   "outputs": [],
   "source": [
    "#Delete Element\n",
    "del(a)"
   ]
  },
  {
   "cell_type": "code",
   "execution_count": 35,
   "id": "5a8a596d-b105-465f-ba08-955408a6bece",
   "metadata": {},
   "outputs": [
    {
     "ename": "NameError",
     "evalue": "name 'a' is not defined",
     "output_type": "error",
     "traceback": [
      "\u001b[1;31m---------------------------------------------------------------------------\u001b[0m",
      "\u001b[1;31mNameError\u001b[0m                                 Traceback (most recent call last)",
      "Cell \u001b[1;32mIn[35], line 1\u001b[0m\n\u001b[1;32m----> 1\u001b[0m \u001b[38;5;28mprint\u001b[39m(a)\n",
      "\u001b[1;31mNameError\u001b[0m: name 'a' is not defined"
     ]
    }
   ],
   "source": [
    "print(a)"
   ]
  },
  {
   "cell_type": "code",
   "execution_count": 36,
   "id": "33408e49-1781-4989-a086-4b9bf2857868",
   "metadata": {},
   "outputs": [],
   "source": [
    "a=10\n",
    "b=20\n",
    "c=30\n",
    "del a,b"
   ]
  },
  {
   "cell_type": "code",
   "execution_count": 37,
   "id": "ab3b436a-22ad-4507-88aa-58a74b0abeda",
   "metadata": {},
   "outputs": [
    {
     "name": "stdout",
     "output_type": "stream",
     "text": [
      "30\n"
     ]
    }
   ],
   "source": [
    "print (c)"
   ]
  },
  {
   "cell_type": "code",
   "execution_count": 38,
   "id": "e74e07a1-fc3a-4676-ab22-908a7947c574",
   "metadata": {},
   "outputs": [
    {
     "ename": "SyntaxError",
     "evalue": "invalid decimal literal (2003050792.py, line 1)",
     "output_type": "error",
     "traceback": [
      "\u001b[1;36m  Cell \u001b[1;32mIn[38], line 1\u001b[1;36m\u001b[0m\n\u001b[1;33m    1a=50\u001b[0m\n\u001b[1;37m    ^\u001b[0m\n\u001b[1;31mSyntaxError\u001b[0m\u001b[1;31m:\u001b[0m invalid decimal literal\n"
     ]
    }
   ],
   "source": [
    "1a=50"
   ]
  },
  {
   "cell_type": "code",
   "execution_count": 39,
   "id": "436a39ed-4d3c-4c94-af83-4ccf43967197",
   "metadata": {},
   "outputs": [
    {
     "ename": "SyntaxError",
     "evalue": "cannot assign to expression here. Maybe you meant '==' instead of '='? (1162645605.py, line 1)",
     "output_type": "error",
     "traceback": [
      "\u001b[1;36m  Cell \u001b[1;32mIn[39], line 1\u001b[1;36m\u001b[0m\n\u001b[1;33m    a@1=70\u001b[0m\n\u001b[1;37m    ^\u001b[0m\n\u001b[1;31mSyntaxError\u001b[0m\u001b[1;31m:\u001b[0m cannot assign to expression here. Maybe you meant '==' instead of '='?\n"
     ]
    }
   ],
   "source": [
    "a@1=70"
   ]
  },
  {
   "cell_type": "code",
   "execution_count": 41,
   "id": "8419c906-5dda-4c68-b79a-606856dc9f65",
   "metadata": {},
   "outputs": [
    {
     "name": "stdout",
     "output_type": "stream",
     "text": [
      "10 20 30\n"
     ]
    }
   ],
   "source": [
    "a=10\n",
    "b=20\n",
    "c=30\n",
    "print(a,b,c)"
   ]
  },
  {
   "cell_type": "code",
   "execution_count": 42,
   "id": "cd96c65d-8da1-4b79-afe7-9bd3bfcae796",
   "metadata": {},
   "outputs": [
    {
     "name": "stdout",
     "output_type": "stream",
     "text": [
      "10 20 30\n"
     ]
    }
   ],
   "source": [
    "#we can assign /r u L triple variables in a single one \n",
    "a,b,c=10,20,30\n",
    "print(a,b,c)"
   ]
  },
  {
   "cell_type": "code",
   "execution_count": 43,
   "id": "65c34cfd-57df-48b0-af59-b28a5b28f231",
   "metadata": {},
   "outputs": [
    {
     "name": "stdout",
     "output_type": "stream",
     "text": [
      "AI\n"
     ]
    }
   ],
   "source": [
    "#assign the same value to /r Ul triple variable at least once \n",
    "a=b=c=\"AI\"\n",
    "print(c)"
   ]
  },
  {
   "cell_type": "code",
   "execution_count": 1,
   "id": "55c98c61-9661-49f6-871f-081e5f178224",
   "metadata": {},
   "outputs": [
    {
     "name": "stdout",
     "output_type": "stream",
     "text": [
      "2\n"
     ]
    }
   ],
   "source": [
    "print(2)"
   ]
  },
  {
   "cell_type": "code",
   "execution_count": 2,
   "id": "cf734bbe-7037-4e94-b466-7e1048b4686a",
   "metadata": {},
   "outputs": [
    {
     "name": "stdout",
     "output_type": "stream",
     "text": [
      "rama\n"
     ]
    }
   ],
   "source": [
    "print(\"rama\")"
   ]
  },
  {
   "cell_type": "code",
   "execution_count": 3,
   "id": "5030b9f1-050b-49e4-ab41-7b944a99d09e",
   "metadata": {},
   "outputs": [
    {
     "name": "stdout",
     "output_type": "stream",
     "text": [
      "asffsfwe 12!@#$\n"
     ]
    }
   ],
   "source": [
    "print(\"asffsfwe 12!@#$\")"
   ]
  },
  {
   "cell_type": "code",
   "execution_count": 4,
   "id": "1f19b7a1-6b85-4ebe-abd6-a53055feaf65",
   "metadata": {},
   "outputs": [
    {
     "name": "stdout",
     "output_type": "stream",
     "text": [
      "20\n"
     ]
    }
   ],
   "source": [
    "b=20\n",
    "print(b)"
   ]
  },
  {
   "cell_type": "code",
   "execution_count": 5,
   "id": "ed333577-cc18-47cf-b0c3-2afac549f11d",
   "metadata": {},
   "outputs": [
    {
     "name": "stdout",
     "output_type": "stream",
     "text": [
      "10\n"
     ]
    }
   ],
   "source": [
    "siva=10\n",
    "print(siva)"
   ]
  },
  {
   "cell_type": "code",
   "execution_count": 6,
   "id": "c08226aa-6e27-4260-80e3-d299efb01337",
   "metadata": {},
   "outputs": [
    {
     "name": "stdout",
     "output_type": "stream",
     "text": [
      "siva\n"
     ]
    }
   ],
   "source": [
    "print(\"siva\")"
   ]
  },
  {
   "cell_type": "code",
   "execution_count": 7,
   "id": "80ad0b12-6a57-438d-b363-e24f154f027f",
   "metadata": {},
   "outputs": [
    {
     "name": "stdout",
     "output_type": "stream",
     "text": [
      "10 20 30 40\n"
     ]
    }
   ],
   "source": [
    "a=10\n",
    "b=20\n",
    "c=30\n",
    "d=40\n",
    "print(a,b,c,d)"
   ]
  },
  {
   "cell_type": "code",
   "execution_count": 8,
   "id": "37872919-5784-468b-9d7a-0b05d4393d00",
   "metadata": {},
   "outputs": [
    {
     "name": "stdout",
     "output_type": "stream",
     "text": [
      "2\n"
     ]
    },
    {
     "data": {
      "text/plain": [
       "int"
      ]
     },
     "execution_count": 8,
     "metadata": {},
     "output_type": "execute_result"
    }
   ],
   "source": [
    "a=2\n",
    "print(a)\n",
    "type(a)"
   ]
  },
  {
   "cell_type": "code",
   "execution_count": 9,
   "id": "d33e61d4-7b80-43ff-b3a6-0450817e1d49",
   "metadata": {},
   "outputs": [
    {
     "name": "stdout",
     "output_type": "stream",
     "text": [
      "2\n"
     ]
    },
    {
     "data": {
      "text/plain": [
       "str"
      ]
     },
     "execution_count": 9,
     "metadata": {},
     "output_type": "execute_result"
    }
   ],
   "source": [
    "a='2'\n",
    "print(a)\n",
    "type(a)"
   ]
  },
  {
   "cell_type": "code",
   "execution_count": 10,
   "id": "9fadb121-6c63-42c4-8192-a721c364d484",
   "metadata": {},
   "outputs": [
    {
     "name": "stdout",
     "output_type": "stream",
     "text": [
      "30\n"
     ]
    }
   ],
   "source": [
    "a=10\n",
    "b=20\n",
    "c=a+b\n",
    "print(c)"
   ]
  },
  {
   "cell_type": "code",
   "execution_count": 11,
   "id": "ee542abd-bd10-45f6-b642-f1a2836b3125",
   "metadata": {},
   "outputs": [
    {
     "name": "stdout",
     "output_type": "stream",
     "text": [
      "30\n"
     ]
    }
   ],
   "source": [
    "a=10\n",
    "b=20\n",
    "print(a+b)"
   ]
  },
  {
   "cell_type": "code",
   "execution_count": 12,
   "id": "1014cf67-3d04-44dc-8943-f81132e1befe",
   "metadata": {},
   "outputs": [
    {
     "name": "stdout",
     "output_type": "stream",
     "text": [
      "30\n"
     ]
    }
   ],
   "source": [
    "print(10+20)\n"
   ]
  },
  {
   "cell_type": "code",
   "execution_count": 13,
   "id": "0864366f-74a9-4aa7-bff8-d16c24120115",
   "metadata": {},
   "outputs": [
    {
     "name": "stdout",
     "output_type": "stream",
     "text": [
      "10 20 30 40\n"
     ]
    }
   ],
   "source": [
    "a=10\n",
    "b=20\n",
    "c=30\n",
    "d=40\n",
    "print(a,b,c,d)"
   ]
  },
  {
   "cell_type": "code",
   "execution_count": 14,
   "id": "f053a6ac-c42b-4d25-ae88-4337efa16622",
   "metadata": {},
   "outputs": [
    {
     "name": "stdout",
     "output_type": "stream",
     "text": [
      "10:20:30:40\n"
     ]
    }
   ],
   "source": [
    "a=10\n",
    "b=20\n",
    "c=30\n",
    "d=40\n",
    "print(a,b,c,d,sep=\":\")"
   ]
  },
  {
   "cell_type": "code",
   "execution_count": 15,
   "id": "5812403c-ffa7-4556-af70-8234fa2def9a",
   "metadata": {},
   "outputs": [
    {
     "name": "stdout",
     "output_type": "stream",
     "text": [
      "The value of a :  10\n"
     ]
    }
   ],
   "source": [
    "a=10\n",
    "print(\"The value of a : \",a)"
   ]
  },
  {
   "cell_type": "code",
   "execution_count": 2,
   "id": "910cfd91-96c5-489d-9c69-aebb051c8cc3",
   "metadata": {},
   "outputs": [],
   "source": [
    "first_name='Siva'\n",
    "last_name='ram'"
   ]
  },
  {
   "cell_type": "code",
   "execution_count": 3,
   "id": "219dbfd6-8444-4575-8fe1-3198b801e13a",
   "metadata": {},
   "outputs": [
    {
     "name": "stdout",
     "output_type": "stream",
     "text": [
      "Name ram Siva\n"
     ]
    }
   ],
   "source": [
    "print(\"Name\",last_name,first_name)"
   ]
  },
  {
   "cell_type": "code",
   "execution_count": 4,
   "id": "598d7d8e-6926-42fb-8461-d90957d52a5a",
   "metadata": {},
   "outputs": [
    {
     "name": "stdout",
     "output_type": "stream",
     "text": [
      "My first name is: Siva and last name is: ram\n"
     ]
    }
   ],
   "source": [
    "print(\"My first name is:\",first_name,\"and last name is:\",last_name)"
   ]
  },
  {
   "cell_type": "code",
   "execution_count": 5,
   "id": "cd2cd421-d05b-44cb-b085-56425b13b8b5",
   "metadata": {},
   "outputs": [
    {
     "name": "stdout",
     "output_type": "stream",
     "text": [
      "My first name is :Siva and last name is:ram\n"
     ]
    }
   ],
   "source": [
    "print(\"My first name is :{} and last name is:{}\".format(first_name,last_name))"
   ]
  },
  {
   "cell_type": "code",
   "execution_count": 6,
   "id": "58d57ad0-dac9-4a74-9101-8a9176684140",
   "metadata": {},
   "outputs": [
    {
     "name": "stdout",
     "output_type": "stream",
     "text": [
      "My first name is:ram and last name is :ram\n"
     ]
    }
   ],
   "source": [
    "#we can use keyword arguments to format the string\n",
    "print(\"My first name is:{first} and last name is :{first}\".format(last=last_name,first=last_name))"
   ]
  },
  {
   "cell_type": "code",
   "execution_count": 9,
   "id": "85aa01cd-2008-4782-bb80-9827f9eff07c",
   "metadata": {},
   "outputs": [
    {
     "name": "stdout",
     "output_type": "stream",
     "text": [
      "Hello satish Good Morning satish\n"
     ]
    }
   ],
   "source": [
    "print(\"Hello {name} {greeting} {name}\".format(name=\"satish\",greeting=\"Good Morning\"))"
   ]
  },
  {
   "cell_type": "code",
   "execution_count": 11,
   "id": "d73d4408-fc0d-4c44-a80b-c215b70ef70d",
   "metadata": {},
   "outputs": [
    {
     "name": "stdout",
     "output_type": "stream",
     "text": [
      "The story of Bill, Manfred,and Georg\n"
     ]
    }
   ],
   "source": [
    "#we can combine positional arguments with keyword arguments with keyword arguments.\n",
    "print('The story of {}, {},and {other}'.format('Bill','Manfred',other='Georg'))"
   ]
  },
  {
   "cell_type": "code",
   "execution_count": 12,
   "id": "c7118666-95c5-4d55-b3c1-12e7dbca1e14",
   "metadata": {},
   "outputs": [
    {
     "name": "stdout",
     "output_type": "stream",
     "text": [
      "My number is:12 and my name is :Sam\n",
      "My number is:12 and my name is :Sam\n",
      "My number is: 12 and my name is: Sam\n"
     ]
    }
   ],
   "source": [
    "num=12\n",
    "name='Sam'\n",
    "print('My number is:{one} and my name is :{two}'.format(one=num,two=name))\n",
    "print('My number is:{} and my name is :{}'.format(num,name))\n",
    "print(\"My number is:\",num,\"and my name is:\",name)"
   ]
  },
  {
   "cell_type": "code",
   "execution_count": 13,
   "id": "245f9745-07da-4673-b3c7-a07d31a58b84",
   "metadata": {},
   "outputs": [
    {
     "name": "stdin",
     "output_type": "stream",
     "text": [
      "Enter the value of a:  3\n",
      "Enter the value of b:  5\n"
     ]
    },
    {
     "name": "stdout",
     "output_type": "stream",
     "text": [
      "ADD: 8\n",
      "Sum:8,Diff:-2,mult:15,Div:0.6,Mod:3\n"
     ]
    }
   ],
   "source": [
    "a=int(input(\"Enter the value of a: \"))\n",
    "b=int(input(\"Enter the value of b: \"))\n",
    "add=a+b\n",
    "sub=a-b\n",
    "mult=a*b\n",
    "div=a/b\n",
    "mod=a%b\n",
    "print(\"ADD:\",add)\n",
    "print(\"Sum:{0},Diff:{1},mult:{2},Div:{3},Mod:{4}\".format(add,sub,mult,div,mod))"
   ]
  },
  {
   "cell_type": "code",
   "execution_count": 14,
   "id": "52057e3f-c6f0-4257-a940-40986c238741",
   "metadata": {},
   "outputs": [
    {
     "name": "stdout",
     "output_type": "stream",
     "text": [
      "Sum: 8, Diff: -2, Mult: 15, Div:0.6, Mod: 3\n"
     ]
    }
   ],
   "source": [
    "print(\"Sum: {}, Diff: {}, Mult: {}, Div:{}, Mod: {}\".format(add,sub,mult,div,mod))"
   ]
  },
  {
   "cell_type": "code",
   "execution_count": null,
   "id": "1f1d8aa7-57b6-4b74-ab8b-044a248a4b55",
   "metadata": {},
   "outputs": [],
   "source": [
    "print(\"Sum: %d,Diff: %d,Mult: %d,Div "
   ]
  },
  {
   "cell_type": "code",
   "execution_count": 1,
   "id": "b81e647c-5e58-4a6c-970e-8c1e1a4042a3",
   "metadata": {},
   "outputs": [
    {
     "name": "stdin",
     "output_type": "stream",
     "text": [
      " 2\n"
     ]
    },
    {
     "data": {
      "text/plain": [
       "'2'"
      ]
     },
     "execution_count": 1,
     "metadata": {},
     "output_type": "execute_result"
    }
   ],
   "source": [
    "n=input()\n",
    "n"
   ]
  },
  {
   "cell_type": "code",
   "execution_count": 2,
   "id": "b28e19c7-1c4e-4f8d-a284-a56abcfabb52",
   "metadata": {},
   "outputs": [
    {
     "data": {
      "text/plain": [
       "str"
      ]
     },
     "execution_count": 2,
     "metadata": {},
     "output_type": "execute_result"
    }
   ],
   "source": [
    "type(n)"
   ]
  },
  {
   "cell_type": "code",
   "execution_count": 3,
   "id": "1cd25121-dd98-48e0-97e5-f63b4e9f3b41",
   "metadata": {},
   "outputs": [
    {
     "name": "stdin",
     "output_type": "stream",
     "text": [
      " siva\n"
     ]
    },
    {
     "data": {
      "text/plain": [
       "'siva'"
      ]
     },
     "execution_count": 3,
     "metadata": {},
     "output_type": "execute_result"
    }
   ],
   "source": [
    "n=input()\n",
    "n"
   ]
  },
  {
   "cell_type": "code",
   "execution_count": 4,
   "id": "345b4196-7220-4d1b-9169-6e401172f8c3",
   "metadata": {},
   "outputs": [
    {
     "name": "stdin",
     "output_type": "stream",
     "text": [
      "enter your age: 22\n"
     ]
    },
    {
     "data": {
      "text/plain": [
       "'22'"
      ]
     },
     "execution_count": 4,
     "metadata": {},
     "output_type": "execute_result"
    }
   ],
   "source": [
    "n1=input(\"enter your age:\")\n",
    "n1"
   ]
  },
  {
   "cell_type": "code",
   "execution_count": 5,
   "id": "61277bee-b200-4edd-9006-fb95dcc83386",
   "metadata": {},
   "outputs": [
    {
     "data": {
      "text/plain": [
       "str"
      ]
     },
     "execution_count": 5,
     "metadata": {},
     "output_type": "execute_result"
    }
   ],
   "source": [
    "type(n1)"
   ]
  },
  {
   "cell_type": "code",
   "execution_count": 6,
   "id": "30bc1235-6e87-4ce8-9870-e72c6700b0e2",
   "metadata": {},
   "outputs": [
    {
     "name": "stdin",
     "output_type": "stream",
     "text": [
      "enter your age: 22\n"
     ]
    },
    {
     "data": {
      "text/plain": [
       "22.0"
      ]
     },
     "execution_count": 6,
     "metadata": {},
     "output_type": "execute_result"
    }
   ],
   "source": [
    "n=float(input(\"enter your age:\"))\n",
    "n"
   ]
  },
  {
   "cell_type": "code",
   "execution_count": 3,
   "id": "8922a895-f909-4045-b13d-e74440628ed8",
   "metadata": {},
   "outputs": [
    {
     "name": "stdin",
     "output_type": "stream",
     "text": [
      "What is your name? siva\n"
     ]
    },
    {
     "name": "stdout",
     "output_type": "stream",
     "text": [
      "It was nice talking you siva!\n"
     ]
    }
   ],
   "source": [
    "name = input(\"What is your name?\")\n",
    "print(\"It was nice talking you \"  +name + \"!\")"
   ]
  },
  {
   "cell_type": "code",
   "execution_count": 4,
   "id": "3608fa2f-b016-47c5-a5e3-1baf99753948",
   "metadata": {},
   "outputs": [
    {
     "name": "stdin",
     "output_type": "stream",
     "text": [
      "Enter your name:  siva rama\n"
     ]
    },
    {
     "name": "stdout",
     "output_type": "stream",
     "text": [
      "siva\n",
      "rama\n"
     ]
    }
   ],
   "source": [
    "#multiple inputs in a single entry\n",
    "var_1,var_2 = input(\"Enter your name: \").split(\" \")\n",
    "print(var_1)\n",
    "print(var_2)"
   ]
  },
  {
   "cell_type": "code",
   "execution_count": 1,
   "id": "45f25eaa-f377-4493-b1b2-d6422296597d",
   "metadata": {},
   "outputs": [],
   "source": [
    "a=20\n"
   ]
  },
  {
   "cell_type": "code",
   "execution_count": 2,
   "id": "c4834d23-cfd3-4da2-8329-c07e08aa9f48",
   "metadata": {},
   "outputs": [
    {
     "data": {
      "text/plain": [
       "int"
      ]
     },
     "execution_count": 2,
     "metadata": {},
     "output_type": "execute_result"
    }
   ],
   "source": [
    "type(a)"
   ]
  },
  {
   "cell_type": "code",
   "execution_count": 3,
   "id": "471f9e9f-58d0-4e24-bff7-45202e101815",
   "metadata": {},
   "outputs": [
    {
     "data": {
      "text/plain": [
       "float"
      ]
     },
     "execution_count": 3,
     "metadata": {},
     "output_type": "execute_result"
    }
   ],
   "source": [
    "a=10.0\n",
    "type(a)"
   ]
  },
  {
   "cell_type": "code",
   "execution_count": 4,
   "id": "ae80f6ca-4190-4950-a833-3e486cf33ae8",
   "metadata": {},
   "outputs": [
    {
     "name": "stdout",
     "output_type": "stream",
     "text": [
      "<class 'int'>\n",
      "<class 'float'>\n"
     ]
    }
   ],
   "source": [
    "a=3\n",
    "print(type(a))\n",
    "b=3.0\n",
    "print(type(b))"
   ]
  },
  {
   "cell_type": "code",
   "execution_count": 5,
   "id": "971433d0-fa57-408e-85a1-2b4cdcee795f",
   "metadata": {},
   "outputs": [
    {
     "data": {
      "text/plain": [
       "5.0"
      ]
     },
     "execution_count": 5,
     "metadata": {},
     "output_type": "execute_result"
    }
   ],
   "source": [
    "a=2\n",
    "b=3.0\n",
    "a+b"
   ]
  },
  {
   "cell_type": "code",
   "execution_count": 6,
   "id": "6b8862c3-d840-4727-9d43-e4ea98dab1fc",
   "metadata": {},
   "outputs": [
    {
     "data": {
      "text/plain": [
       "3"
      ]
     },
     "execution_count": 6,
     "metadata": {},
     "output_type": "execute_result"
    }
   ],
   "source": [
    "b=3.9\n",
    "int(b)"
   ]
  },
  {
   "cell_type": "code",
   "execution_count": 7,
   "id": "c82e231e-c7dd-4b7e-a581-320739e9320d",
   "metadata": {},
   "outputs": [
    {
     "data": {
      "text/plain": [
       "11"
      ]
     },
     "execution_count": 7,
     "metadata": {},
     "output_type": "execute_result"
    }
   ],
   "source": [
    "int(11.999)"
   ]
  },
  {
   "cell_type": "code",
   "execution_count": 8,
   "id": "cabc3b18-5fd9-4396-aad3-14ccd1eb09d8",
   "metadata": {},
   "outputs": [
    {
     "data": {
      "text/plain": [
       "bool"
      ]
     },
     "execution_count": 8,
     "metadata": {},
     "output_type": "execute_result"
    }
   ],
   "source": [
    "b1 = True\n",
    "type(b1)"
   ]
  },
  {
   "cell_type": "code",
   "execution_count": 9,
   "id": "fce01e0a-acbf-4703-b186-c37d52794219",
   "metadata": {},
   "outputs": [
    {
     "data": {
      "text/plain": [
       "bool"
      ]
     },
     "execution_count": 9,
     "metadata": {},
     "output_type": "execute_result"
    }
   ],
   "source": [
    "type(True)"
   ]
  },
  {
   "cell_type": "code",
   "execution_count": 10,
   "id": "3e2b99d2-1590-4ffb-b3d3-2692b1c5c21c",
   "metadata": {},
   "outputs": [
    {
     "data": {
      "text/plain": [
       "bool"
      ]
     },
     "execution_count": 10,
     "metadata": {},
     "output_type": "execute_result"
    }
   ],
   "source": [
    "type(False)"
   ]
  },
  {
   "cell_type": "code",
   "execution_count": 11,
   "id": "d1a9daaa-f0d4-459b-bf19-25a0b13871d9",
   "metadata": {},
   "outputs": [
    {
     "data": {
      "text/plain": [
       "1"
      ]
     },
     "execution_count": 11,
     "metadata": {},
     "output_type": "execute_result"
    }
   ],
   "source": [
    "int(True)"
   ]
  },
  {
   "cell_type": "code",
   "execution_count": 12,
   "id": "01834944-ba20-46ae-a857-d216caaab854",
   "metadata": {},
   "outputs": [
    {
     "data": {
      "text/plain": [
       "0"
      ]
     },
     "execution_count": 12,
     "metadata": {},
     "output_type": "execute_result"
    }
   ],
   "source": [
    "int(False)"
   ]
  },
  {
   "cell_type": "code",
   "execution_count": 13,
   "id": "647fbcf0-050a-448e-ba16-77696e9f2495",
   "metadata": {},
   "outputs": [
    {
     "data": {
      "text/plain": [
       "2"
      ]
     },
     "execution_count": 13,
     "metadata": {},
     "output_type": "execute_result"
    }
   ],
   "source": [
    "True+True"
   ]
  },
  {
   "cell_type": "code",
   "execution_count": 14,
   "id": "fae0a635-53ec-4972-9f1d-5dead9241095",
   "metadata": {},
   "outputs": [
    {
     "data": {
      "text/plain": [
       "5.9"
      ]
     },
     "execution_count": 14,
     "metadata": {},
     "output_type": "execute_result"
    }
   ],
   "source": [
    "b=5.9\n",
    "c=False\n",
    "b+c"
   ]
  },
  {
   "cell_type": "code",
   "execution_count": 15,
   "id": "c6ed9697-9795-45c4-be1e-4ea0e46d5a88",
   "metadata": {},
   "outputs": [],
   "source": [
    "x=10+30j"
   ]
  },
  {
   "cell_type": "code",
   "execution_count": 16,
   "id": "7e7970a4-c77d-44c3-8f18-04580c35e871",
   "metadata": {},
   "outputs": [
    {
     "data": {
      "text/plain": [
       "complex"
      ]
     },
     "execution_count": 16,
     "metadata": {},
     "output_type": "execute_result"
    }
   ],
   "source": [
    "type(x)"
   ]
  },
  {
   "cell_type": "code",
   "execution_count": 17,
   "id": "8e5ab355-b4e1-464c-b6cf-5be428f053da",
   "metadata": {},
   "outputs": [
    {
     "data": {
      "text/plain": [
       "10.0"
      ]
     },
     "execution_count": 17,
     "metadata": {},
     "output_type": "execute_result"
    }
   ],
   "source": [
    "x.real"
   ]
  },
  {
   "cell_type": "code",
   "execution_count": 18,
   "id": "fea3062c-eabd-4f0e-a1e0-720b689e376a",
   "metadata": {},
   "outputs": [
    {
     "data": {
      "text/plain": [
       "30.0"
      ]
     },
     "execution_count": 18,
     "metadata": {},
     "output_type": "execute_result"
    }
   ],
   "source": [
    "x.imag"
   ]
  },
  {
   "cell_type": "code",
   "execution_count": 19,
   "id": "fc46aae5-0390-4825-9382-c5b679792f10",
   "metadata": {},
   "outputs": [
    {
     "data": {
      "text/plain": [
       "30"
      ]
     },
     "execution_count": 19,
     "metadata": {},
     "output_type": "execute_result"
    }
   ],
   "source": [
    "int(x.imag)"
   ]
  },
  {
   "cell_type": "code",
   "execution_count": 20,
   "id": "1808790e-329b-47a5-b9fb-8e88ff143d3e",
   "metadata": {},
   "outputs": [
    {
     "name": "stdout",
     "output_type": "stream",
     "text": [
      "1.0 -2.0\n"
     ]
    }
   ],
   "source": [
    "y=1.0 - 2.0j\n",
    "print(y.real,y.imag)"
   ]
  },
  {
   "cell_type": "code",
   "execution_count": 44,
   "id": "f0923ec8-0642-45fb-813f-67f1f430b0fc",
   "metadata": {},
   "outputs": [
    {
     "name": "stdout",
     "output_type": "stream",
     "text": [
      "10.0 -20.0\n"
     ]
    }
   ],
   "source": [
    "y=10+(-20j)\n",
    "print(y.real,y.imag)"
   ]
  },
  {
   "cell_type": "code",
   "execution_count": 47,
   "id": "5d68ee8f-e775-41c0-909c-fdf0b3c8565e",
   "metadata": {},
   "outputs": [
    {
     "data": {
      "text/plain": [
       "-2.0"
      ]
     },
     "execution_count": 47,
     "metadata": {},
     "output_type": "execute_result"
    }
   ],
   "source": [
    "y=10+-2j\n",
    "y.imag"
   ]
  },
  {
   "cell_type": "code",
   "execution_count": 41,
   "id": "e3c806e1-159f-4afe-be09-e41f8f9037c2",
   "metadata": {},
   "outputs": [
    {
     "ename": "SyntaxError",
     "evalue": "invalid syntax (3642927832.py, line 1)",
     "output_type": "error",
     "traceback": [
      "\u001b[1;36m  Cell \u001b[1;32mIn[41], line 1\u001b[1;36m\u001b[0m\n\u001b[1;33m    y=10+(-20)k\u001b[0m\n\u001b[1;37m              ^\u001b[0m\n\u001b[1;31mSyntaxError\u001b[0m\u001b[1;31m:\u001b[0m invalid syntax\n"
     ]
    }
   ],
   "source": [
    "y=10+(-20)k\n",
    "print(k.real,k.imag)"
   ]
  },
  {
   "cell_type": "code",
   "execution_count": 22,
   "id": "489cc9eb-8c07-4e8a-a9bb-53b561d2150b",
   "metadata": {},
   "outputs": [
    {
     "name": "stdout",
     "output_type": "stream",
     "text": [
      "Hello\n",
      "Hello\n",
      "Hello\n"
     ]
    }
   ],
   "source": [
    "myString1 = 'Hello'\n",
    "print(myString1)\n",
    "myString2 = \"Hello\"\n",
    "print(myString2)\n",
    "myString3 = '''Hello'''\n",
    "print(myString3)"
   ]
  },
  {
   "cell_type": "code",
   "execution_count": 23,
   "id": "0b2a888f-d022-4848-97de-22d2fb1dc86e",
   "metadata": {},
   "outputs": [
    {
     "data": {
      "text/plain": [
       "str"
      ]
     },
     "execution_count": 23,
     "metadata": {},
     "output_type": "execute_result"
    }
   ],
   "source": [
    "a='sam'\n",
    "type(a)"
   ]
  },
  {
   "cell_type": "code",
   "execution_count": 24,
   "id": "93db7eb7-5ac9-4c1c-9158-04ebfef980e1",
   "metadata": {},
   "outputs": [
    {
     "ename": "ValueError",
     "evalue": "invalid literal for int() with base 10: 'sam'",
     "output_type": "error",
     "traceback": [
      "\u001b[1;31m---------------------------------------------------------------------------\u001b[0m",
      "\u001b[1;31mValueError\u001b[0m                                Traceback (most recent call last)",
      "Cell \u001b[1;32mIn[24], line 1\u001b[0m\n\u001b[1;32m----> 1\u001b[0m \u001b[38;5;28mint\u001b[39m(a)\n",
      "\u001b[1;31mValueError\u001b[0m: invalid literal for int() with base 10: 'sam'"
     ]
    }
   ],
   "source": [
    "int(a)"
   ]
  },
  {
   "cell_type": "code",
   "execution_count": 25,
   "id": "adb81a59-b152-414f-8918-3c238d824dbd",
   "metadata": {},
   "outputs": [
    {
     "data": {
      "text/plain": [
       "str"
      ]
     },
     "execution_count": 25,
     "metadata": {},
     "output_type": "execute_result"
    }
   ],
   "source": [
    "type(\"sam\")"
   ]
  },
  {
   "cell_type": "code",
   "execution_count": 51,
   "id": "71744200-39d4-48f8-90f4-0d28c3bb340c",
   "metadata": {},
   "outputs": [
    {
     "ename": "ValueError",
     "evalue": "invalid literal for int() with base 10: '505.5'",
     "output_type": "error",
     "traceback": [
      "\u001b[1;31m---------------------------------------------------------------------------\u001b[0m",
      "\u001b[1;31mValueError\u001b[0m                                Traceback (most recent call last)",
      "Cell \u001b[1;32mIn[51], line 2\u001b[0m\n\u001b[0;32m      1\u001b[0m a\u001b[38;5;241m=\u001b[39m\u001b[38;5;124m\"\u001b[39m\u001b[38;5;124m505.5\u001b[39m\u001b[38;5;124m\"\u001b[39m\n\u001b[1;32m----> 2\u001b[0m \u001b[38;5;28mint\u001b[39m(a)\n",
      "\u001b[1;31mValueError\u001b[0m: invalid literal for int() with base 10: '505.5'"
     ]
    }
   ],
   "source": [
    "a=\"505.5\"\n",
    "int(a)\n"
   ]
  },
  {
   "cell_type": "code",
   "execution_count": 50,
   "id": "081b75bd-9ea1-4e54-86a2-f100eb9b4a0e",
   "metadata": {},
   "outputs": [
    {
     "data": {
      "text/plain": [
       "505.0"
      ]
     },
     "execution_count": 50,
     "metadata": {},
     "output_type": "execute_result"
    }
   ],
   "source": [
    "float(a)"
   ]
  },
  {
   "cell_type": "code",
   "execution_count": 52,
   "id": "350df0de-a8b3-4202-a436-5205a00d9716",
   "metadata": {},
   "outputs": [
    {
     "data": {
      "text/plain": [
       "505"
      ]
     },
     "execution_count": 52,
     "metadata": {},
     "output_type": "execute_result"
    }
   ],
   "source": [
    "int(float(a))"
   ]
  },
  {
   "cell_type": "code",
   "execution_count": 53,
   "id": "332656f7-2979-4dd1-96f3-607a656fbf0d",
   "metadata": {},
   "outputs": [
    {
     "name": "stdin",
     "output_type": "stream",
     "text": [
      "Enter a decimal number 10.5\n"
     ]
    },
    {
     "ename": "ValueError",
     "evalue": "invalid literal for int() with base 10: '10.5'",
     "output_type": "error",
     "traceback": [
      "\u001b[1;31m---------------------------------------------------------------------------\u001b[0m",
      "\u001b[1;31mValueError\u001b[0m                                Traceback (most recent call last)",
      "Cell \u001b[1;32mIn[53], line 2\u001b[0m\n\u001b[0;32m      1\u001b[0m a\u001b[38;5;241m=\u001b[39m\u001b[38;5;28minput\u001b[39m(\u001b[38;5;124m\"\u001b[39m\u001b[38;5;124mEnter a decimal number\u001b[39m\u001b[38;5;124m\"\u001b[39m)\n\u001b[1;32m----> 2\u001b[0m \u001b[38;5;28mint\u001b[39m(a)\n\u001b[0;32m      3\u001b[0m \u001b[38;5;28mfloat\u001b[39m(a)\n",
      "\u001b[1;31mValueError\u001b[0m: invalid literal for int() with base 10: '10.5'"
     ]
    }
   ],
   "source": [
    "a=input(\"Enter a decimal number\")\n",
    "int(a)\n",
    "float(a)"
   ]
  },
  {
   "cell_type": "code",
   "execution_count": 54,
   "id": "64d55867-a045-4c7c-a65d-be34b48d3fd6",
   "metadata": {},
   "outputs": [
    {
     "data": {
      "text/plain": [
       "10"
      ]
     },
     "execution_count": 54,
     "metadata": {},
     "output_type": "execute_result"
    }
   ],
   "source": [
    "int(float(a))"
   ]
  },
  {
   "cell_type": "code",
   "execution_count": 26,
   "id": "b0a155bf-a0f0-48be-b6c3-543e995322e9",
   "metadata": {},
   "outputs": [
    {
     "data": {
      "text/plain": [
       "str"
      ]
     },
     "execution_count": 26,
     "metadata": {},
     "output_type": "execute_result"
    }
   ],
   "source": [
    "var = \"12345\"\n",
    "type(var)"
   ]
  },
  {
   "cell_type": "code",
   "execution_count": 27,
   "id": "93efe286-b146-4605-a29e-f9b3a865fc69",
   "metadata": {},
   "outputs": [
    {
     "data": {
      "text/plain": [
       "'12345'"
      ]
     },
     "execution_count": 27,
     "metadata": {},
     "output_type": "execute_result"
    }
   ],
   "source": [
    "var"
   ]
  },
  {
   "cell_type": "code",
   "execution_count": 28,
   "id": "ffb57574-8e50-4592-84e8-7f4462c0e9e0",
   "metadata": {},
   "outputs": [
    {
     "data": {
      "text/plain": [
       "12345"
      ]
     },
     "execution_count": 28,
     "metadata": {},
     "output_type": "execute_result"
    }
   ],
   "source": [
    "x=int(var)\n",
    "x"
   ]
  },
  {
   "cell_type": "code",
   "execution_count": 29,
   "id": "6f3f9228-9705-4b55-b344-64f7bae10a3d",
   "metadata": {},
   "outputs": [
    {
     "data": {
      "text/plain": [
       "'si@1234'"
      ]
     },
     "execution_count": 29,
     "metadata": {},
     "output_type": "execute_result"
    }
   ],
   "source": [
    "a='si@1234'\n",
    "a"
   ]
  },
  {
   "cell_type": "code",
   "execution_count": 30,
   "id": "68650d53-8349-4075-92d9-e2d3a51af7aa",
   "metadata": {},
   "outputs": [
    {
     "data": {
      "text/plain": [
       "1234"
      ]
     },
     "execution_count": 30,
     "metadata": {},
     "output_type": "execute_result"
    }
   ],
   "source": [
    "a='1234'\n",
    "int(a)"
   ]
  },
  {
   "cell_type": "code",
   "execution_count": 31,
   "id": "bae2ec3b-36f6-44ea-9889-6f6e402f2c67",
   "metadata": {},
   "outputs": [
    {
     "name": "stdout",
     "output_type": "stream",
     "text": [
      "nisha \"laptop\"\n"
     ]
    }
   ],
   "source": [
    "print('nisha \"laptop\"')"
   ]
  },
  {
   "cell_type": "code",
   "execution_count": 32,
   "id": "c8ca83db-9048-4b24-99f0-98fe91c387c6",
   "metadata": {},
   "outputs": [
    {
     "name": "stdout",
     "output_type": "stream",
     "text": [
      "nisha's\"laptop\"\n"
     ]
    }
   ],
   "source": [
    "print('nisha\\'s\"laptop\"')"
   ]
  },
  {
   "cell_type": "code",
   "execution_count": 55,
   "id": "25c03cc8-fd86-44c1-b365-d6c02526c23e",
   "metadata": {},
   "outputs": [
    {
     "ename": "SyntaxError",
     "evalue": "invalid syntax. Perhaps you forgot a comma? (3776442586.py, line 1)",
     "output_type": "error",
     "traceback": [
      "\u001b[1;36m  Cell \u001b[1;32mIn[55], line 1\u001b[1;36m\u001b[0m\n\u001b[1;33m    print(\"nisha's \"laptop\" \")\u001b[0m\n\u001b[1;37m          ^\u001b[0m\n\u001b[1;31mSyntaxError\u001b[0m\u001b[1;31m:\u001b[0m invalid syntax. Perhaps you forgot a comma?\n"
     ]
    }
   ],
   "source": [
    "print(\"nisha's \"laptop\" \")"
   ]
  },
  {
   "cell_type": "code",
   "execution_count": 3,
   "id": "c5016508-aaa1-431d-aead-c1b3a0b60d8e",
   "metadata": {},
   "outputs": [
    {
     "data": {
      "text/plain": [
       "'603'"
      ]
     },
     "execution_count": 3,
     "metadata": {},
     "output_type": "execute_result"
    }
   ],
   "source": [
    "a=\"60\"\n",
    "b=\"3\"\n",
    "#concatenation of 2 string\n",
    "a+b"
   ]
  },
  {
   "cell_type": "code",
   "execution_count": 4,
   "id": "7fe0b3f2-91dc-427c-bec2-4c690243830d",
   "metadata": {},
   "outputs": [
    {
     "data": {
      "text/plain": [
       "603"
      ]
     },
     "execution_count": 4,
     "metadata": {},
     "output_type": "execute_result"
    }
   ],
   "source": [
    "int(a+b)"
   ]
  },
  {
   "cell_type": "code",
   "execution_count": 5,
   "id": "98229a82-c757-40f5-ad9a-177589058f88",
   "metadata": {},
   "outputs": [
    {
     "data": {
      "text/plain": [
       "63"
      ]
     },
     "execution_count": 5,
     "metadata": {},
     "output_type": "execute_result"
    }
   ],
   "source": [
    "int(a)+int(b)\n"
   ]
  },
  {
   "cell_type": "code",
   "execution_count": 6,
   "id": "4451e03d-6f7c-4309-9a6a-8281ce67df96",
   "metadata": {},
   "outputs": [
    {
     "ename": "TypeError",
     "evalue": "unsupported operand type(s) for +: 'int' and 'str'",
     "output_type": "error",
     "traceback": [
      "\u001b[1;31m---------------------------------------------------------------------------\u001b[0m",
      "\u001b[1;31mTypeError\u001b[0m                                 Traceback (most recent call last)",
      "Cell \u001b[1;32mIn[6], line 3\u001b[0m\n\u001b[0;32m      1\u001b[0m d\u001b[38;5;241m=\u001b[39m\u001b[38;5;124m'\u001b[39m\u001b[38;5;124m3\u001b[39m\u001b[38;5;124m'\u001b[39m\n\u001b[0;32m      2\u001b[0m a\u001b[38;5;241m=\u001b[39m\u001b[38;5;241m4\u001b[39m\n\u001b[1;32m----> 3\u001b[0m a\u001b[38;5;241m+\u001b[39md\n",
      "\u001b[1;31mTypeError\u001b[0m: unsupported operand type(s) for +: 'int' and 'str'"
     ]
    }
   ],
   "source": [
    "d='3'\n",
    "a=4\n",
    "a+d"
   ]
  },
  {
   "cell_type": "code",
   "execution_count": 7,
   "id": "d75848fe-cca6-42e0-b0b2-293c6d78d4cf",
   "metadata": {},
   "outputs": [
    {
     "data": {
      "text/plain": [
       "7"
      ]
     },
     "execution_count": 7,
     "metadata": {},
     "output_type": "execute_result"
    }
   ],
   "source": [
    "int(d)+a"
   ]
  },
  {
   "cell_type": "code",
   "execution_count": 8,
   "id": "71c46f03-d2de-49d6-8d98-a495cbdf8211",
   "metadata": {},
   "outputs": [
    {
     "data": {
      "text/plain": [
       "34"
      ]
     },
     "execution_count": 8,
     "metadata": {},
     "output_type": "execute_result"
    }
   ],
   "source": [
    "int(d+str(a))"
   ]
  },
  {
   "cell_type": "code",
   "execution_count": 9,
   "id": "301b6355-c7c0-4347-9006-040de4b1727b",
   "metadata": {},
   "outputs": [],
   "source": [
    "a=\"sam\"\n",
    "b=234"
   ]
  },
  {
   "cell_type": "code",
   "execution_count": 10,
   "id": "76f50fdb-7d45-473e-814b-c646611c6395",
   "metadata": {},
   "outputs": [
    {
     "name": "stdout",
     "output_type": "stream",
     "text": [
      "sam234\n"
     ]
    }
   ],
   "source": [
    "print(a+str(b))"
   ]
  },
  {
   "cell_type": "code",
   "execution_count": 11,
   "id": "d8aa01d5-ca49-4e3b-8efc-81a25294b9f9",
   "metadata": {},
   "outputs": [
    {
     "data": {
      "text/plain": [
       "'mickymicky'"
      ]
     },
     "execution_count": 11,
     "metadata": {},
     "output_type": "execute_result"
    }
   ],
   "source": [
    "'micky' + 'micky'"
   ]
  },
  {
   "cell_type": "code",
   "execution_count": 12,
   "id": "f61ef551-e220-418e-a926-7e6f354af04b",
   "metadata": {},
   "outputs": [
    {
     "data": {
      "text/plain": [
       "'suvamsuvamsuvamsuvamsuvam'"
      ]
     },
     "execution_count": 12,
     "metadata": {},
     "output_type": "execute_result"
    }
   ],
   "source": [
    "#repeat string n times\n",
    "\"suvam\" * 5"
   ]
  },
  {
   "cell_type": "code",
   "execution_count": 13,
   "id": "d3092355-aa9f-4029-b5fd-4fd52ffdac67",
   "metadata": {},
   "outputs": [],
   "source": [
    "user=\"satya\"\n",
    "lines=100"
   ]
  },
  {
   "cell_type": "code",
   "execution_count": 14,
   "id": "e2ad796d-7f86-4f6b-a785-148ee0500503",
   "metadata": {},
   "outputs": [
    {
     "name": "stdout",
     "output_type": "stream",
     "text": [
      "congratulations, satya ! You just wrote 100 lines of code\n"
     ]
    }
   ],
   "source": [
    "print(\"congratulations,\",user,\"! You just wrote\",lines,\"lines of code\")"
   ]
  },
  {
   "cell_type": "code",
   "execution_count": 16,
   "id": "7bd5cae6-5bba-4d43-a2f1-bda93d9a7b70",
   "metadata": {},
   "outputs": [],
   "source": [
    "user=\"micky\"\n",
    "lines=200"
   ]
  },
  {
   "cell_type": "code",
   "execution_count": 18,
   "id": "061faede-06a4-4ae7-a392-0e02f3476fad",
   "metadata": {},
   "outputs": [
    {
     "name": "stdout",
     "output_type": "stream",
     "text": [
      "micky wrote 200 of code\n"
     ]
    }
   ],
   "source": [
    "print(user,\"wrote\",lines,\"of code\")"
   ]
  },
  {
   "cell_type": "code",
   "execution_count": 2,
   "id": "6ec910b6-dcb7-42d7-a335-e85a231355cd",
   "metadata": {},
   "outputs": [],
   "source": [
    "user=\"micky\"\n",
    "lines=200"
   ]
  },
  {
   "cell_type": "code",
   "execution_count": 5,
   "id": "c31b36f7-120f-4e9c-90ec-3b39a7e7b40c",
   "metadata": {},
   "outputs": [
    {
     "name": "stdout",
     "output_type": "stream",
     "text": [
      "congratulations, micky! You just wrote 200 lines of code\n"
     ]
    }
   ],
   "source": [
    "print(\"congratulations, \" + user + \"! You just wrote \" + str(lines) +  \" lines of code\")  "
   ]
  },
  {
   "cell_type": "code",
   "execution_count": 6,
   "id": "d4ab356c-5a58-4d55-9a3b-4d5dac1f2977",
   "metadata": {},
   "outputs": [
    {
     "data": {
      "text/plain": [
       "18"
      ]
     },
     "execution_count": 6,
     "metadata": {},
     "output_type": "execute_result"
    }
   ],
   "source": [
    "d= \"This is intresting\"\n",
    "len(d)"
   ]
  },
  {
   "cell_type": "code",
   "execution_count": 7,
   "id": "2f3bc6f0-7750-4be6-a084-9479f036ea11",
   "metadata": {},
   "outputs": [
    {
     "ename": "NameError",
     "evalue": "name 'd' is not defined",
     "output_type": "error",
     "traceback": [
      "\u001b[1;31m---------------------------------------------------------------------------\u001b[0m",
      "\u001b[1;31mNameError\u001b[0m                                 Traceback (most recent call last)",
      "Cell \u001b[1;32mIn[7], line 3\u001b[0m\n\u001b[0;32m      1\u001b[0m \u001b[38;5;66;03m#delete complete string\u001b[39;00m\n\u001b[0;32m      2\u001b[0m \u001b[38;5;28;01mdel\u001b[39;00m d\n\u001b[1;32m----> 3\u001b[0m \u001b[38;5;28mprint\u001b[39m(d)\n",
      "\u001b[1;31mNameError\u001b[0m: name 'd' is not defined"
     ]
    }
   ],
   "source": [
    "#delete complete string\n",
    "del d\n",
    "print(d)\n"
   ]
  },
  {
   "cell_type": "code",
   "execution_count": 8,
   "id": "9c7c312d-7d7b-47af-9de4-54d8c9e65e8e",
   "metadata": {},
   "outputs": [],
   "source": [
    "myString = \"Hello\""
   ]
  },
  {
   "cell_type": "code",
   "execution_count": 9,
   "id": "65ac7145-7288-479b-983b-c6fe05e9bfea",
   "metadata": {},
   "outputs": [
    {
     "name": "stdout",
     "output_type": "stream",
     "text": [
      "H\n"
     ]
    }
   ],
   "source": [
    "#print first character\n",
    "print(myString[0])"
   ]
  },
  {
   "cell_type": "code",
   "execution_count": 10,
   "id": "4a7aec24-8ad4-4cf0-bb25-4585998008da",
   "metadata": {},
   "outputs": [
    {
     "name": "stdout",
     "output_type": "stream",
     "text": [
      "o\n"
     ]
    }
   ],
   "source": [
    "#last char d[len(d)-1] or d[-1]\n",
    "print(myString[-1])"
   ]
  },
  {
   "cell_type": "code",
   "execution_count": 11,
   "id": "6a327efd-40f9-4abb-828c-f50ddf97331e",
   "metadata": {},
   "outputs": [
    {
     "name": "stdout",
     "output_type": "stream",
     "text": [
      "e\n"
     ]
    }
   ],
   "source": [
    "#print character using negative indexing\n",
    "print(myString[-4])"
   ]
  },
  {
   "cell_type": "code",
   "execution_count": 12,
   "id": "657d726e-e76a-4f7f-a0b0-e17a23d361b4",
   "metadata": {},
   "outputs": [
    {
     "ename": "IndexError",
     "evalue": "string index out of range",
     "output_type": "error",
     "traceback": [
      "\u001b[1;31m---------------------------------------------------------------------------\u001b[0m",
      "\u001b[1;31mIndexError\u001b[0m                                Traceback (most recent call last)",
      "Cell \u001b[1;32mIn[12], line 2\u001b[0m\n\u001b[0;32m      1\u001b[0m \u001b[38;5;66;03m#If we try to access index with out of the range , we will get index error.\u001b[39;00m\n\u001b[1;32m----> 2\u001b[0m \u001b[38;5;28mprint\u001b[39m(myString[\u001b[38;5;241m5\u001b[39m])\n",
      "\u001b[1;31mIndexError\u001b[0m: string index out of range"
     ]
    }
   ],
   "source": [
    "#If we try to access index with out of the range , we will get index error.\n",
    "print(myString[5])"
   ]
  },
  {
   "cell_type": "code",
   "execution_count": 13,
   "id": "d77db31a-3c0c-4089-a83f-27f620bea070",
   "metadata": {},
   "outputs": [
    {
     "ename": "TypeError",
     "evalue": "string indices must be integers, not 'float'",
     "output_type": "error",
     "traceback": [
      "\u001b[1;31m---------------------------------------------------------------------------\u001b[0m",
      "\u001b[1;31mTypeError\u001b[0m                                 Traceback (most recent call last)",
      "Cell \u001b[1;32mIn[13], line 2\u001b[0m\n\u001b[0;32m      1\u001b[0m \u001b[38;5;66;03m#If we try to access by using decimal number , we will get errors.\u001b[39;00m\n\u001b[1;32m----> 2\u001b[0m \u001b[38;5;28mprint\u001b[39m(myString[\u001b[38;5;241m1.5\u001b[39m])\n",
      "\u001b[1;31mTypeError\u001b[0m: string indices must be integers, not 'float'"
     ]
    }
   ],
   "source": [
    "#If we try to access by using decimal number , we will get errors.\n",
    "print(myString[1.5])"
   ]
  },
  {
   "cell_type": "code",
   "execution_count": 14,
   "id": "afe530ad-3fef-42d6-96c5-71eef0db49e9",
   "metadata": {},
   "outputs": [
    {
     "name": "stdout",
     "output_type": "stream",
     "text": [
      "llo\n"
     ]
    }
   ],
   "source": [
    "#slicing 2nd to 5th character (start to end -1 index)\n",
    "print(myString[2:5])"
   ]
  },
  {
   "cell_type": "code",
   "execution_count": 16,
   "id": "421f15fe-e6f1-4a65-89c5-0850d4d2ecae",
   "metadata": {},
   "outputs": [
    {
     "name": "stdout",
     "output_type": "stream",
     "text": [
      "ll\n"
     ]
    }
   ],
   "source": [
    "print(myString[2:4])"
   ]
  },
  {
   "cell_type": "code",
   "execution_count": 19,
   "id": "be964e1f-c7cf-4583-b8e5-5f5e290a2d6d",
   "metadata": {},
   "outputs": [
    {
     "name": "stdout",
     "output_type": "stream",
     "text": [
      "Hell\n"
     ]
    }
   ],
   "source": [
    "print(myString[0:4])"
   ]
  },
  {
   "cell_type": "code",
   "execution_count": 17,
   "id": "989f66b4-cc3a-4d6d-ae43-05242da235e6",
   "metadata": {},
   "outputs": [
    {
     "data": {
      "text/plain": [
       "'llo'"
      ]
     },
     "execution_count": 17,
     "metadata": {},
     "output_type": "execute_result"
    }
   ],
   "source": [
    "#slicing (start to all)\n",
    "myString[2: ]"
   ]
  },
  {
   "cell_type": "code",
   "execution_count": 20,
   "id": "f72387d1-908a-4c62-844a-3d2606a7112f",
   "metadata": {},
   "outputs": [
    {
     "data": {
      "text/plain": [
       "'Hel'"
      ]
     },
     "execution_count": 20,
     "metadata": {},
     "output_type": "execute_result"
    }
   ],
   "source": [
    "myString[:3]"
   ]
  },
  {
   "cell_type": "code",
   "execution_count": 21,
   "id": "a653a219-7933-46ea-99b6-9d5ee92fe3f8",
   "metadata": {},
   "outputs": [
    {
     "data": {
      "text/plain": [
       "'Hello'"
      ]
     },
     "execution_count": 21,
     "metadata": {},
     "output_type": "execute_result"
    }
   ],
   "source": [
    "myString[:]"
   ]
  },
  {
   "cell_type": "code",
   "execution_count": 22,
   "id": "4d17dcd2-0373-4a76-8cba-8c93f06d766e",
   "metadata": {},
   "outputs": [
    {
     "data": {
      "text/plain": [
       "'Hello'"
      ]
     },
     "execution_count": 22,
     "metadata": {},
     "output_type": "execute_result"
    }
   ],
   "source": [
    "myString"
   ]
  },
  {
   "cell_type": "code",
   "execution_count": 23,
   "id": "2ab8a965-ee97-4f66-a426-1d4ad5164dce",
   "metadata": {},
   "outputs": [
    {
     "data": {
      "text/plain": [
       "''"
      ]
     },
     "execution_count": 23,
     "metadata": {},
     "output_type": "execute_result"
    }
   ],
   "source": [
    "myString[4:1]"
   ]
  },
  {
   "cell_type": "code",
   "execution_count": 24,
   "id": "e5a47dd9-c08c-463d-8444-205e9a74ea6c",
   "metadata": {},
   "outputs": [
    {
     "data": {
      "text/plain": [
       "'Hlo'"
      ]
     },
     "execution_count": 24,
     "metadata": {},
     "output_type": "execute_result"
    }
   ],
   "source": [
    "#slicing with increment\n",
    "myString[ : : 2]"
   ]
  },
  {
   "cell_type": "code",
   "execution_count": 25,
   "id": "eb2d7f2c-6d63-410a-b264-a77ab539e230",
   "metadata": {},
   "outputs": [
    {
     "data": {
      "text/plain": [
       "'Hl'"
      ]
     },
     "execution_count": 25,
     "metadata": {},
     "output_type": "execute_result"
    }
   ],
   "source": [
    "myString[ : : 3]"
   ]
  },
  {
   "cell_type": "code",
   "execution_count": 26,
   "id": "64335324-653f-431f-b38f-0e986bb52032",
   "metadata": {},
   "outputs": [
    {
     "data": {
      "text/plain": [
       "'oll'"
      ]
     },
     "execution_count": 26,
     "metadata": {},
     "output_type": "execute_result"
    }
   ],
   "source": [
    "myString[-1:-4:-1]"
   ]
  },
  {
   "cell_type": "code",
   "execution_count": 27,
   "id": "fd5a6a77-c5b7-4efe-a98c-7e94ab3e8a27",
   "metadata": {},
   "outputs": [
    {
     "data": {
      "text/plain": [
       "'ol'"
      ]
     },
     "execution_count": 27,
     "metadata": {},
     "output_type": "execute_result"
    }
   ],
   "source": [
    "myString[-1:-3:-1]"
   ]
  },
  {
   "cell_type": "code",
   "execution_count": 28,
   "id": "44cf43d8-fce8-4ff4-bf65-8c0db89ea1d6",
   "metadata": {},
   "outputs": [
    {
     "data": {
      "text/plain": [
       "'olleH'"
      ]
     },
     "execution_count": 28,
     "metadata": {},
     "output_type": "execute_result"
    }
   ],
   "source": [
    "#print in reverse order \n",
    "myString[ : : -1] "
   ]
  },
  {
   "cell_type": "code",
   "execution_count": 32,
   "id": "4d687aa3-59a9-42e4-89f4-0bab9a84332d",
   "metadata": {},
   "outputs": [
    {
     "name": "stdout",
     "output_type": "stream",
     "text": [
      "10.501\n",
      "<class 'float'>\n"
     ]
    }
   ],
   "source": [
    "a=00\n",
    "print(a)\n",
    "print(type(a))"
   ]
  },
  {
   "cell_type": "code",
   "execution_count": 33,
   "id": "c67d025e-2b4f-473e-9818-a4edb637965d",
   "metadata": {},
   "outputs": [
    {
     "data": {
      "text/plain": [
       "False"
      ]
     },
     "execution_count": 33,
     "metadata": {},
     "output_type": "execute_result"
    }
   ],
   "source": [
    "10.5>10.50"
   ]
  },
  {
   "cell_type": "code",
   "execution_count": 34,
   "id": "411927b0-f3d2-4e78-a5e8-c5fb5430eb59",
   "metadata": {},
   "outputs": [
    {
     "data": {
      "text/plain": [
       "True"
      ]
     },
     "execution_count": 34,
     "metadata": {},
     "output_type": "execute_result"
    }
   ],
   "source": [
    "10.5==10.50"
   ]
  },
  {
   "cell_type": "code",
   "execution_count": 35,
   "id": "998d41cd-2921-4ad9-a96c-11376fc47a10",
   "metadata": {},
   "outputs": [
    {
     "ename": "SyntaxError",
     "evalue": "leading zeros in decimal integer literals are not permitted; use an 0o prefix for octal integers (214576337.py, line 2)",
     "output_type": "error",
     "traceback": [
      "\u001b[1;36m  Cell \u001b[1;32mIn[35], line 2\u001b[1;36m\u001b[0m\n\u001b[1;33m    print(0015)\u001b[0m\n\u001b[1;37m          ^\u001b[0m\n\u001b[1;31mSyntaxError\u001b[0m\u001b[1;31m:\u001b[0m leading zeros in decimal integer literals are not permitted; use an 0o prefix for octal integers\n"
     ]
    }
   ],
   "source": [
    "print(5)\n",
    "print(0015)"
   ]
  },
  {
   "cell_type": "code",
   "execution_count": 36,
   "id": "eb0d7de4-aac8-455e-a157-f13ba6b652e2",
   "metadata": {},
   "outputs": [
    {
     "name": "stdout",
     "output_type": "stream",
     "text": [
      "13\n"
     ]
    }
   ],
   "source": [
    "print(0o0015)"
   ]
  },
  {
   "cell_type": "code",
   "execution_count": 37,
   "id": "009702ac-02ad-4134-b5eb-c1f9383906bc",
   "metadata": {},
   "outputs": [
    {
     "name": "stdout",
     "output_type": "stream",
     "text": [
      "5.0\n",
      "15.15\n"
     ]
    }
   ],
   "source": [
    "print(5.0)\n",
    "print(0015.1500)"
   ]
  },
  {
   "cell_type": "code",
   "execution_count": 38,
   "id": "679eb1c0-9a5b-48f5-8d2c-b06ffc17506f",
   "metadata": {},
   "outputs": [
    {
     "name": "stdout",
     "output_type": "stream",
     "text": [
      "5.0\n"
     ]
    }
   ],
   "source": [
    "print(5.00)"
   ]
  },
  {
   "cell_type": "code",
   "execution_count": 40,
   "id": "3ff69b25-fa6c-4638-baf8-ba87982e7c9f",
   "metadata": {},
   "outputs": [
    {
     "data": {
      "text/plain": [
       "0"
      ]
     },
     "execution_count": 40,
     "metadata": {},
     "output_type": "execute_result"
    }
   ],
   "source": [
    "b=3\n",
    "c=False\n",
    "b*c"
   ]
  },
  {
   "cell_type": "markdown",
   "id": "b1cb5753-ec9b-4520-8a92-c8d347fbe51a",
   "metadata": {},
   "source": [
    "## STRING METHODS"
   ]
  },
  {
   "cell_type": "markdown",
   "id": "b80a4422-6a0e-4336-94cf-ea26e2baba1d",
   "metadata": {},
   "source": [
    "### Capitalize"
   ]
  },
  {
   "cell_type": "code",
   "execution_count": 1,
   "id": "b755c870-4e53-44ce-bc40-5d567c0ad6fe",
   "metadata": {},
   "outputs": [
    {
     "data": {
      "text/plain": [
       "'Good evening'"
      ]
     },
     "execution_count": 1,
     "metadata": {},
     "output_type": "execute_result"
    }
   ],
   "source": [
    "\"good evening\".capitalize()"
   ]
  },
  {
   "cell_type": "code",
   "execution_count": 2,
   "id": "15fb457e-24a1-4c2d-8c9e-6a320fbed20c",
   "metadata": {},
   "outputs": [
    {
     "data": {
      "text/plain": [
       "'Good evening.welcome'"
      ]
     },
     "execution_count": 2,
     "metadata": {},
     "output_type": "execute_result"
    }
   ],
   "source": [
    "\"good evening.welcome\".capitalize()"
   ]
  },
  {
   "cell_type": "markdown",
   "id": "7e0ddb19-35c0-4d0f-b3d6-5c4699c885e0",
   "metadata": {},
   "source": [
    "## Title"
   ]
  },
  {
   "cell_type": "code",
   "execution_count": 3,
   "id": "b7dc36ab-e09b-4a44-bab9-34d3a7a6d01c",
   "metadata": {},
   "outputs": [
    {
     "data": {
      "text/plain": [
       "'Good Evening'"
      ]
     },
     "execution_count": 3,
     "metadata": {},
     "output_type": "execute_result"
    }
   ],
   "source": [
    "a= \"gOOd eVENing\"\n",
    "a.title()"
   ]
  },
  {
   "cell_type": "code",
   "execution_count": 5,
   "id": "19e491b7-b41d-40fb-873f-3df7e44acde0",
   "metadata": {},
   "outputs": [
    {
     "data": {
      "text/plain": [
       "'Good Evening'"
      ]
     },
     "execution_count": 5,
     "metadata": {},
     "output_type": "execute_result"
    }
   ],
   "source": [
    "\"gOOd eVEniNg\".title()"
   ]
  },
  {
   "cell_type": "markdown",
   "id": "81f2c12d-5a67-4979-a2e1-20632a139327",
   "metadata": {},
   "source": [
    "### Upper"
   ]
  },
  {
   "cell_type": "code",
   "execution_count": 6,
   "id": "54e2899d-7f81-4f53-a54a-675937915e9a",
   "metadata": {},
   "outputs": [
    {
     "data": {
      "text/plain": [
       "'GOOD EVENING'"
      ]
     },
     "execution_count": 6,
     "metadata": {},
     "output_type": "execute_result"
    }
   ],
   "source": [
    "a.upper()"
   ]
  },
  {
   "cell_type": "markdown",
   "id": "6f2402a3-22fd-402b-8da3-98f961833c7a",
   "metadata": {},
   "source": [
    "### Lower"
   ]
  },
  {
   "cell_type": "code",
   "execution_count": 8,
   "id": "f1fcb088-c7a6-432e-bb5c-54c81448d346",
   "metadata": {},
   "outputs": [
    {
     "data": {
      "text/plain": [
       "'good evening'"
      ]
     },
     "execution_count": 8,
     "metadata": {},
     "output_type": "execute_result"
    }
   ],
   "source": [
    "a.lower()"
   ]
  },
  {
   "cell_type": "markdown",
   "id": "48c89e2d-ff4f-4d04-b10a-375b7cc501f2",
   "metadata": {},
   "source": [
    "### split"
   ]
  },
  {
   "cell_type": "code",
   "execution_count": 10,
   "id": "c4f1883a-39d6-446c-8ef5-613dccf27750",
   "metadata": {},
   "outputs": [
    {
     "data": {
      "text/plain": [
       "['hello', 'my', 'name', 'is', 'micky']"
      ]
     },
     "execution_count": 10,
     "metadata": {},
     "output_type": "execute_result"
    }
   ],
   "source": [
    "sp = 'hello my name is micky'\n",
    "sp.split(' ')"
   ]
  },
  {
   "cell_type": "code",
   "execution_count": 11,
   "id": "a6221240-812a-47ab-b274-19e33f27e34d",
   "metadata": {},
   "outputs": [
    {
     "data": {
      "text/plain": [
       "['Go sports! ', ' Sports']"
      ]
     },
     "execution_count": 11,
     "metadata": {},
     "output_type": "execute_result"
    }
   ],
   "source": [
    "tweet = 'Go sports! # Sports'\n",
    "tweet.split('#')"
   ]
  },
  {
   "cell_type": "code",
   "execution_count": 12,
   "id": "d25cc065-4b07-4e96-b3fa-b05aa9044561",
   "metadata": {},
   "outputs": [
    {
     "data": {
      "text/plain": [
       "['Split', 'all', 'the', 'words', 'in', 'a', 'single', 'list']"
      ]
     },
     "execution_count": 12,
     "metadata": {},
     "output_type": "execute_result"
    }
   ],
   "source": [
    "\"Split all the words in a single list\".split()"
   ]
  },
  {
   "cell_type": "markdown",
   "id": "1c8b655b-ef68-4c25-a69b-7c989514c22a",
   "metadata": {},
   "source": [
    "### Join\n"
   ]
  },
  {
   "cell_type": "code",
   "execution_count": 13,
   "id": "d935b96e-57f8-4c51-929f-aa01b8f1151c",
   "metadata": {},
   "outputs": [
    {
     "data": {
      "text/plain": [
       "'This will split all words in a list'"
      ]
     },
     "execution_count": 13,
     "metadata": {},
     "output_type": "execute_result"
    }
   ],
   "source": [
    "' '.join(['This','will','split','all','words','in','a','list'])"
   ]
  },
  {
   "cell_type": "markdown",
   "id": "90c8761d-c7cc-4517-be20-200d43850060",
   "metadata": {},
   "source": [
    "### Find"
   ]
  },
  {
   "cell_type": "code",
   "execution_count": 15,
   "id": "1106fb53-3515-4998-afcf-79e84e4e2f99",
   "metadata": {},
   "outputs": [
    {
     "data": {
      "text/plain": [
       "9"
      ]
     },
     "execution_count": 15,
     "metadata": {},
     "output_type": "execute_result"
    }
   ],
   "source": [
    "\"Good Evening\".find(\"i\")"
   ]
  },
  {
   "cell_type": "code",
   "execution_count": 16,
   "id": "6b4b4dea-21fe-43f9-bca1-474f1e7e3740",
   "metadata": {},
   "outputs": [
    {
     "data": {
      "text/plain": [
       "11"
      ]
     },
     "execution_count": 16,
     "metadata": {},
     "output_type": "execute_result"
    }
   ],
   "source": [
    "\"Good Evening\".find(\"g\")"
   ]
  },
  {
   "cell_type": "markdown",
   "id": "0dd40ca5-d741-4dde-86f9-6951a6062bb6",
   "metadata": {},
   "source": [
    "### Count"
   ]
  },
  {
   "cell_type": "code",
   "execution_count": 18,
   "id": "d8274d50-e446-4f44-957f-1aa0f03f6fa3",
   "metadata": {},
   "outputs": [
    {
     "data": {
      "text/plain": [
       "2"
      ]
     },
     "execution_count": 18,
     "metadata": {},
     "output_type": "execute_result"
    }
   ],
   "source": [
    "\"Good Evening\".count(\"o\")"
   ]
  },
  {
   "cell_type": "markdown",
   "id": "213daa32-74d5-45f2-a5c0-f4ac7b9a273a",
   "metadata": {},
   "source": [
    "### Replace"
   ]
  },
  {
   "cell_type": "code",
   "execution_count": 20,
   "id": "7e7be3ed-ea33-489b-b3d7-3509d235166f",
   "metadata": {},
   "outputs": [
    {
     "data": {
      "text/plain": [
       "'Bad Evening'"
      ]
     },
     "execution_count": 20,
     "metadata": {},
     "output_type": "execute_result"
    }
   ],
   "source": [
    "A1 = \"Good Evening\"\n",
    "A2 = A1.replace(\"Good\",\"Bad\")\n",
    "A2"
   ]
  },
  {
   "cell_type": "code",
   "execution_count": 1,
   "id": "e8acf144-58ae-4b37-b1a9-3209abe92681",
   "metadata": {},
   "outputs": [
    {
     "data": {
      "text/plain": [
       "True"
      ]
     },
     "execution_count": 1,
     "metadata": {},
     "output_type": "execute_result"
    }
   ],
   "source": [
    "5 == 5"
   ]
  },
  {
   "cell_type": "code",
   "execution_count": 2,
   "id": "d97e1159-dd4c-450b-a022-7d741942f86f",
   "metadata": {},
   "outputs": [
    {
     "data": {
      "text/plain": [
       "True"
      ]
     },
     "execution_count": 2,
     "metadata": {},
     "output_type": "execute_result"
    }
   ],
   "source": [
    "4<=5"
   ]
  },
  {
   "cell_type": "code",
   "execution_count": 5,
   "id": "d7e847bb-040e-487e-9649-7ee5414b7c3e",
   "metadata": {},
   "outputs": [
    {
     "data": {
      "text/plain": [
       "15"
      ]
     },
     "execution_count": 5,
     "metadata": {},
     "output_type": "execute_result"
    }
   ],
   "source": [
    "0b01111"
   ]
  },
  {
   "cell_type": "code",
   "execution_count": 6,
   "id": "fe0ecebd-25c1-48d9-8d2b-eb9742c2330c",
   "metadata": {},
   "outputs": [
    {
     "data": {
      "text/plain": [
       "'0b1001'"
      ]
     },
     "execution_count": 6,
     "metadata": {},
     "output_type": "execute_result"
    }
   ],
   "source": [
    "bin(9)"
   ]
  },
  {
   "cell_type": "code",
   "execution_count": 7,
   "id": "a9e88fb1-9053-429c-a8ce-b70b18425f2c",
   "metadata": {},
   "outputs": [
    {
     "data": {
      "text/plain": [
       "'0b111'"
      ]
     },
     "execution_count": 7,
     "metadata": {},
     "output_type": "execute_result"
    }
   ],
   "source": [
    "bin(7)"
   ]
  },
  {
   "cell_type": "markdown",
   "id": "8ad393f5-f615-4089-8fd4-d9da033cfc9f",
   "metadata": {},
   "source": [
    "## OPERATOR"
   ]
  },
  {
   "cell_type": "markdown",
   "id": "b178f07d-1690-46f7-aff9-2b77eb194854",
   "metadata": {},
   "source": [
    "### ARITHMETIC OPERATOR"
   ]
  },
  {
   "cell_type": "code",
   "execution_count": 3,
   "id": "0b211531-b43b-4386-a139-c06023abcb82",
   "metadata": {},
   "outputs": [
    {
     "data": {
      "text/plain": [
       "12"
      ]
     },
     "execution_count": 3,
     "metadata": {},
     "output_type": "execute_result"
    }
   ],
   "source": [
    "#ADDITION\n",
    "5+7"
   ]
  },
  {
   "cell_type": "code",
   "execution_count": 5,
   "id": "0935a41d-16ea-45d7-87d1-474246fd90a8",
   "metadata": {},
   "outputs": [
    {
     "data": {
      "text/plain": [
       "7"
      ]
     },
     "execution_count": 5,
     "metadata": {},
     "output_type": "execute_result"
    }
   ],
   "source": [
    "#SUBTRACTION\n",
    "9-2"
   ]
  },
  {
   "cell_type": "code",
   "execution_count": 7,
   "id": "2e6dc7d9-56dc-4698-b779-6e7d20e0cd5f",
   "metadata": {},
   "outputs": [
    {
     "data": {
      "text/plain": [
       "20"
      ]
     },
     "execution_count": 7,
     "metadata": {},
     "output_type": "execute_result"
    }
   ],
   "source": [
    "#MULTIPLICATION\n",
    "4*5"
   ]
  },
  {
   "cell_type": "code",
   "execution_count": 8,
   "id": "ebb4e342-d30b-4f83-a87c-5d1495203426",
   "metadata": {},
   "outputs": [
    {
     "data": {
      "text/plain": [
       "3.0"
      ]
     },
     "execution_count": 8,
     "metadata": {},
     "output_type": "execute_result"
    }
   ],
   "source": [
    "#DIVISION\n",
    "9/3"
   ]
  },
  {
   "cell_type": "code",
   "execution_count": 9,
   "id": "615c4522-825e-4b58-b553-5dbc7e9bb893",
   "metadata": {},
   "outputs": [
    {
     "data": {
      "text/plain": [
       "64"
      ]
     },
     "execution_count": 9,
     "metadata": {},
     "output_type": "execute_result"
    }
   ],
   "source": [
    "#POWER/EXPONENT\n",
    "4**3"
   ]
  },
  {
   "cell_type": "code",
   "execution_count": 10,
   "id": "33cd4939-f447-4cc3-a7b3-d293c2dc324b",
   "metadata": {},
   "outputs": [
    {
     "data": {
      "text/plain": [
       "1.4285714285714286"
      ]
     },
     "execution_count": 10,
     "metadata": {},
     "output_type": "execute_result"
    }
   ],
   "source": [
    "#DIVISION\n",
    "10/7"
   ]
  },
  {
   "cell_type": "code",
   "execution_count": 12,
   "id": "776aadcb-fc53-4cef-9bc3-b3432d58393a",
   "metadata": {},
   "outputs": [
    {
     "data": {
      "text/plain": [
       "1"
      ]
     },
     "execution_count": 12,
     "metadata": {},
     "output_type": "execute_result"
    }
   ],
   "source": [
    "# FLOOR DIVISION\n",
    "10//7"
   ]
  },
  {
   "cell_type": "code",
   "execution_count": 13,
   "id": "768681ce-f99b-4c39-9de2-2080b7a6d094",
   "metadata": {},
   "outputs": [
    {
     "data": {
      "text/plain": [
       "81"
      ]
     },
     "execution_count": 13,
     "metadata": {},
     "output_type": "execute_result"
    }
   ],
   "source": [
    "#PARANTHESIS\n",
    "(3+6)*(5+4)"
   ]
  },
  {
   "cell_type": "code",
   "execution_count": 14,
   "id": "a69fb664-4c0d-4002-ba54-ef1f59a5aa76",
   "metadata": {},
   "outputs": [
    {
     "name": "stdout",
     "output_type": "stream",
     "text": [
      "1500\n",
      "1.6666666666666667\n",
      "20\n"
     ]
    }
   ],
   "source": [
    "a=50\n",
    "b=30\n",
    "print(a*b)\n",
    "print(a/b)\n",
    "print(a%b)"
   ]
  },
  {
   "cell_type": "code",
   "execution_count": 15,
   "id": "fb83512c-f34e-4ad9-8d0d-583bf739c84d",
   "metadata": {},
   "outputs": [
    {
     "data": {
      "text/plain": [
       "50.0"
      ]
     },
     "execution_count": 15,
     "metadata": {},
     "output_type": "execute_result"
    }
   ],
   "source": [
    "a-b*a/b+a ##BODMAS"
   ]
  },
  {
   "cell_type": "code",
   "execution_count": 18,
   "id": "10d748e8-9484-43ea-aca9-5334facf64b1",
   "metadata": {},
   "outputs": [
    {
     "data": {
      "text/plain": [
       "16"
      ]
     },
     "execution_count": 18,
     "metadata": {},
     "output_type": "execute_result"
    }
   ],
   "source": [
    "(2*(2+6))"
   ]
  },
  {
   "cell_type": "code",
   "execution_count": 19,
   "id": "b3455eaa-90bc-43e2-9e39-a1681c78bcbb",
   "metadata": {},
   "outputs": [
    {
     "data": {
      "text/plain": [
       "7"
      ]
     },
     "execution_count": 19,
     "metadata": {},
     "output_type": "execute_result"
    }
   ],
   "source": [
    "8//6%5+2**3-2"
   ]
  },
  {
   "cell_type": "code",
   "execution_count": 20,
   "id": "09163397-55b7-4356-9338-e4c862275fe5",
   "metadata": {},
   "outputs": [
    {
     "data": {
      "text/plain": [
       "5.0"
      ]
     },
     "execution_count": 20,
     "metadata": {},
     "output_type": "execute_result"
    }
   ],
   "source": [
    "8//3*3/2+10%2**2"
   ]
  },
  {
   "cell_type": "markdown",
   "id": "481f0755-bd48-46d9-b218-5a945188c034",
   "metadata": {},
   "source": [
    "### COMPARISION OPERATOR"
   ]
  },
  {
   "cell_type": "code",
   "execution_count": 21,
   "id": "9ddc2794-3227-4de8-a01c-8817d30335e7",
   "metadata": {},
   "outputs": [
    {
     "data": {
      "text/plain": [
       "True"
      ]
     },
     "execution_count": 21,
     "metadata": {},
     "output_type": "execute_result"
    }
   ],
   "source": [
    "# greater than\n",
    "46>22"
   ]
  },
  {
   "cell_type": "code",
   "execution_count": 22,
   "id": "a89edeb4-289d-46cf-b3ed-12f96f06431c",
   "metadata": {},
   "outputs": [
    {
     "data": {
      "text/plain": [
       "True"
      ]
     },
     "execution_count": 22,
     "metadata": {},
     "output_type": "execute_result"
    }
   ],
   "source": [
    "#less than\n",
    "78<90"
   ]
  },
  {
   "cell_type": "code",
   "execution_count": 23,
   "id": "ebb8612a-8145-4677-9e62-58867891330c",
   "metadata": {},
   "outputs": [
    {
     "data": {
      "text/plain": [
       "False"
      ]
     },
     "execution_count": 23,
     "metadata": {},
     "output_type": "execute_result"
    }
   ],
   "source": [
    "88<67"
   ]
  },
  {
   "cell_type": "code",
   "execution_count": 24,
   "id": "47fa79f1-3aa8-480b-b868-97407d14a5b9",
   "metadata": {},
   "outputs": [
    {
     "data": {
      "text/plain": [
       "False"
      ]
     },
     "execution_count": 24,
     "metadata": {},
     "output_type": "execute_result"
    }
   ],
   "source": [
    "3*8 > 6*8"
   ]
  },
  {
   "cell_type": "code",
   "execution_count": 25,
   "id": "4d15fefa-c389-4755-955b-94203d2a1906",
   "metadata": {},
   "outputs": [
    {
     "data": {
      "text/plain": [
       "True"
      ]
     },
     "execution_count": 25,
     "metadata": {},
     "output_type": "execute_result"
    }
   ],
   "source": [
    "#equals\n",
    "65==65"
   ]
  },
  {
   "cell_type": "code",
   "execution_count": 26,
   "id": "81715639-918b-41f0-8494-7ee3dd7e50f4",
   "metadata": {},
   "outputs": [
    {
     "data": {
      "text/plain": [
       "True"
      ]
     },
     "execution_count": 26,
     "metadata": {},
     "output_type": "execute_result"
    }
   ],
   "source": [
    "#not equals\n",
    "76!=89"
   ]
  },
  {
   "cell_type": "code",
   "execution_count": 27,
   "id": "37a1acfc-4d6b-44ec-b675-f8838d3de726",
   "metadata": {},
   "outputs": [
    {
     "data": {
      "text/plain": [
       "False"
      ]
     },
     "execution_count": 27,
     "metadata": {},
     "output_type": "execute_result"
    }
   ],
   "source": [
    "1>=6"
   ]
  },
  {
   "cell_type": "code",
   "execution_count": 28,
   "id": "02e584cb-8e87-4a8c-b690-8a0ad0e2f23f",
   "metadata": {},
   "outputs": [
    {
     "data": {
      "text/plain": [
       "True"
      ]
     },
     "execution_count": 28,
     "metadata": {},
     "output_type": "execute_result"
    }
   ],
   "source": [
    "2>=2"
   ]
  },
  {
   "cell_type": "code",
   "execution_count": 29,
   "id": "b32eec3d-a14a-4cfb-93e2-56acdffe1c30",
   "metadata": {},
   "outputs": [
    {
     "data": {
      "text/plain": [
       "True"
      ]
     },
     "execution_count": 29,
     "metadata": {},
     "output_type": "execute_result"
    }
   ],
   "source": [
    "5<=6"
   ]
  },
  {
   "cell_type": "code",
   "execution_count": 30,
   "id": "76cf348d-57b2-44d1-a4bd-84b520075b68",
   "metadata": {},
   "outputs": [
    {
     "data": {
      "text/plain": [
       "True"
      ]
     },
     "execution_count": 30,
     "metadata": {},
     "output_type": "execute_result"
    }
   ],
   "source": [
    "32==32.0"
   ]
  },
  {
   "cell_type": "code",
   "execution_count": 31,
   "id": "be66a1af-48f8-432b-8c46-c466c38abe96",
   "metadata": {},
   "outputs": [
    {
     "data": {
      "text/plain": [
       "False"
      ]
     },
     "execution_count": 31,
     "metadata": {},
     "output_type": "execute_result"
    }
   ],
   "source": [
    "'bye' == 'BYE'"
   ]
  },
  {
   "cell_type": "markdown",
   "id": "6bc360aa-a9f1-48dd-843c-466be50b64f4",
   "metadata": {},
   "source": [
    "### BITWISE OPERATOR"
   ]
  },
  {
   "cell_type": "code",
   "execution_count": 32,
   "id": "5423be70-b8de-4010-b67c-dc71615fb8ae",
   "metadata": {},
   "outputs": [
    {
     "data": {
      "text/plain": [
       "'0b1100100'"
      ]
     },
     "execution_count": 32,
     "metadata": {},
     "output_type": "execute_result"
    }
   ],
   "source": [
    "bin(100)"
   ]
  },
  {
   "cell_type": "code",
   "execution_count": 33,
   "id": "e7c830a7-2088-4426-b0a1-65eff57627d4",
   "metadata": {},
   "outputs": [
    {
     "data": {
      "text/plain": [
       "76"
      ]
     },
     "execution_count": 33,
     "metadata": {},
     "output_type": "execute_result"
    }
   ],
   "source": [
    "0b1001100"
   ]
  },
  {
   "cell_type": "code",
   "execution_count": 34,
   "id": "1dd0b915-476f-431e-833c-0940a39cac59",
   "metadata": {},
   "outputs": [
    {
     "name": "stdout",
     "output_type": "stream",
     "text": [
      "6\n"
     ]
    }
   ],
   "source": [
    "a=4\n",
    "b=6\n",
    "print(a|b)"
   ]
  },
  {
   "cell_type": "code",
   "execution_count": 35,
   "id": "ed2c9579-705c-489f-8841-3e27912cb1dd",
   "metadata": {},
   "outputs": [
    {
     "name": "stdout",
     "output_type": "stream",
     "text": [
      "4\n"
     ]
    }
   ],
   "source": [
    "a=4\n",
    "b=6\n",
    "print(a&b)"
   ]
  },
  {
   "cell_type": "code",
   "execution_count": 36,
   "id": "8ecc6aa6-ab29-429d-ad7c-f163c4805b48",
   "metadata": {},
   "outputs": [
    {
     "data": {
      "text/plain": [
       "6"
      ]
     },
     "execution_count": 36,
     "metadata": {},
     "output_type": "execute_result"
    }
   ],
   "source": [
    "4|6"
   ]
  },
  {
   "cell_type": "code",
   "execution_count": 37,
   "id": "aa8ff170-24d5-4bf8-8302-aa354fa2cbec",
   "metadata": {},
   "outputs": [
    {
     "data": {
      "text/plain": [
       "4"
      ]
     },
     "execution_count": 37,
     "metadata": {},
     "output_type": "execute_result"
    }
   ],
   "source": [
    "4&6"
   ]
  },
  {
   "cell_type": "code",
   "execution_count": 38,
   "id": "2d54438b-b94c-4988-8ead-958cc5d469d8",
   "metadata": {},
   "outputs": [
    {
     "data": {
      "text/plain": [
       "15"
      ]
     },
     "execution_count": 38,
     "metadata": {},
     "output_type": "execute_result"
    }
   ],
   "source": [
    "7|9"
   ]
  },
  {
   "cell_type": "code",
   "execution_count": 39,
   "id": "7e8f39d9-f8bd-46b9-a357-23a104456bc2",
   "metadata": {},
   "outputs": [
    {
     "data": {
      "text/plain": [
       "1"
      ]
     },
     "execution_count": 39,
     "metadata": {},
     "output_type": "execute_result"
    }
   ],
   "source": [
    "7&9"
   ]
  },
  {
   "cell_type": "markdown",
   "id": "a2c12483-44d4-4eec-8292-f8563a3ad9e4",
   "metadata": {},
   "source": [
    "### LOGICAL OPERATOR"
   ]
  },
  {
   "cell_type": "code",
   "execution_count": 40,
   "id": "644e9f7b-3e20-4107-9a0e-519a7812c3fc",
   "metadata": {},
   "outputs": [
    {
     "data": {
      "text/plain": [
       "True"
      ]
     },
     "execution_count": 40,
     "metadata": {},
     "output_type": "execute_result"
    }
   ],
   "source": [
    "(1>2) or (2<3)"
   ]
  },
  {
   "cell_type": "code",
   "execution_count": 41,
   "id": "2676df8a-5703-4c3a-94bf-dc50e1a126d3",
   "metadata": {},
   "outputs": [
    {
     "data": {
      "text/plain": [
       "False"
      ]
     },
     "execution_count": 41,
     "metadata": {},
     "output_type": "execute_result"
    }
   ],
   "source": [
    "(1>2) and (2<3)"
   ]
  },
  {
   "cell_type": "code",
   "execution_count": 42,
   "id": "e50e7930-381b-4b71-96d4-87657d65d70e",
   "metadata": {},
   "outputs": [
    {
     "data": {
      "text/plain": [
       "False"
      ]
     },
     "execution_count": 42,
     "metadata": {},
     "output_type": "execute_result"
    }
   ],
   "source": [
    "not True"
   ]
  },
  {
   "cell_type": "code",
   "execution_count": 43,
   "id": "377973d1-cf19-4aa6-a0e6-12f3a9eca97b",
   "metadata": {},
   "outputs": [
    {
     "data": {
      "text/plain": [
       "True"
      ]
     },
     "execution_count": 43,
     "metadata": {},
     "output_type": "execute_result"
    }
   ],
   "source": [
    "my_str='Micky'\n",
    "my_str.isalpha() or str_example.isnum()"
   ]
  },
  {
   "cell_type": "code",
   "execution_count": 44,
   "id": "b3313c61-dfd3-4e05-a8d4-f49f2cc32475",
   "metadata": {},
   "outputs": [
    {
     "data": {
      "text/plain": [
       "False"
      ]
     },
     "execution_count": 44,
     "metadata": {},
     "output_type": "execute_result"
    }
   ],
   "source": [
    "(2==2) and (2==5) or (4==8)"
   ]
  },
  {
   "cell_type": "markdown",
   "id": "bc277e55-3090-44ff-8f32-eec842e83420",
   "metadata": {},
   "source": [
    "### ASSIGNMENT OPERATOR"
   ]
  },
  {
   "cell_type": "code",
   "execution_count": 45,
   "id": "d9d0c6ee-91fb-497c-abef-fb39ace88d24",
   "metadata": {},
   "outputs": [
    {
     "data": {
      "text/plain": [
       "20"
      ]
     },
     "execution_count": 45,
     "metadata": {},
     "output_type": "execute_result"
    }
   ],
   "source": [
    "a=20\n",
    "a"
   ]
  },
  {
   "cell_type": "code",
   "execution_count": 46,
   "id": "400df10f-e947-46e5-b474-aaf56820a640",
   "metadata": {},
   "outputs": [
    {
     "data": {
      "text/plain": [
       "21"
      ]
     },
     "execution_count": 46,
     "metadata": {},
     "output_type": "execute_result"
    }
   ],
   "source": [
    "a=a+1\n",
    "a"
   ]
  },
  {
   "cell_type": "code",
   "execution_count": 50,
   "id": "6fc7c7fe-b88b-49cb-9997-d6a221cc0b9e",
   "metadata": {},
   "outputs": [
    {
     "data": {
      "text/plain": [
       "20"
      ]
     },
     "execution_count": 50,
     "metadata": {},
     "output_type": "execute_result"
    }
   ],
   "source": [
    "a-=4\n",
    "a"
   ]
  },
  {
   "cell_type": "markdown",
   "id": "d037bffa-79b4-47de-bbc4-74779801de18",
   "metadata": {},
   "source": [
    "## IDENTITY OPERATOR"
   ]
  },
  {
   "cell_type": "code",
   "execution_count": 1,
   "id": "acbe1e02-1cc5-4148-add9-083261fa6e8e",
   "metadata": {},
   "outputs": [
    {
     "name": "stdout",
     "output_type": "stream",
     "text": [
      "True\n"
     ]
    }
   ],
   "source": [
    "a=7\n",
    "b=7\n",
    "print(a is b)"
   ]
  },
  {
   "cell_type": "code",
   "execution_count": 2,
   "id": "ea575ae6-cfe5-4de3-b1a0-e2f2298e1915",
   "metadata": {},
   "outputs": [
    {
     "name": "stdout",
     "output_type": "stream",
     "text": [
      "False\n"
     ]
    }
   ],
   "source": [
    "A1=\"Micky\"\n",
    "A2=\"micky\"\n",
    "print(A1 is A2)"
   ]
  },
  {
   "cell_type": "code",
   "execution_count": 3,
   "id": "16be2ae7-313a-446a-a8ed-b89e4b949b76",
   "metadata": {},
   "outputs": [
    {
     "name": "stdout",
     "output_type": "stream",
     "text": [
      "True\n"
     ]
    }
   ],
   "source": [
    "a=9\n",
    "b=6\n",
    "print(a is not b)"
   ]
  },
  {
   "cell_type": "code",
   "execution_count": 4,
   "id": "afd92298-509d-441c-81f1-5ac53a5f5cc5",
   "metadata": {},
   "outputs": [
    {
     "name": "stdout",
     "output_type": "stream",
     "text": [
      "False\n"
     ]
    }
   ],
   "source": [
    "a=5\n",
    "b=5\n",
    "print(a is not b)"
   ]
  },
  {
   "cell_type": "markdown",
   "id": "e6100c04-8942-4ce5-a0a0-907d4836838d",
   "metadata": {},
   "source": [
    "## MEMBERSHIP OPERATOR"
   ]
  },
  {
   "cell_type": "code",
   "execution_count": 5,
   "id": "a0e0f28a-0b94-4514-bb09-79fe843696e4",
   "metadata": {},
   "outputs": [
    {
     "data": {
      "text/plain": [
       "True"
      ]
     },
     "execution_count": 5,
     "metadata": {},
     "output_type": "execute_result"
    }
   ],
   "source": [
    "a='sambedana'\n",
    "'bed' in a"
   ]
  },
  {
   "cell_type": "code",
   "execution_count": 6,
   "id": "0e10506d-7c37-4642-be17-9250ba65c219",
   "metadata": {},
   "outputs": [
    {
     "data": {
      "text/plain": [
       "False"
      ]
     },
     "execution_count": 6,
     "metadata": {},
     "output_type": "execute_result"
    }
   ],
   "source": [
    "'mda' in a"
   ]
  },
  {
   "cell_type": "code",
   "execution_count": 7,
   "id": "3209f315-cae2-4467-8c34-ca99720dc15f",
   "metadata": {},
   "outputs": [
    {
     "data": {
      "text/plain": [
       "True"
      ]
     },
     "execution_count": 7,
     "metadata": {},
     "output_type": "execute_result"
    }
   ],
   "source": [
    "num=[1,2,3,4,5]\n",
    "2 in num"
   ]
  },
  {
   "cell_type": "code",
   "execution_count": 8,
   "id": "538b90f0-2640-4ec3-ae4b-391df3ca6d54",
   "metadata": {},
   "outputs": [
    {
     "data": {
      "text/plain": [
       "False"
      ]
     },
     "execution_count": 8,
     "metadata": {},
     "output_type": "execute_result"
    }
   ],
   "source": [
    "6 in num"
   ]
  },
  {
   "cell_type": "code",
   "execution_count": 9,
   "id": "bc00887b-3cdb-4cf5-a8dc-463dcc83ba78",
   "metadata": {},
   "outputs": [
    {
     "data": {
      "text/plain": [
       "True"
      ]
     },
     "execution_count": 9,
     "metadata": {},
     "output_type": "execute_result"
    }
   ],
   "source": [
    "a=[7,5,9,4,2]\n",
    "1 not in a\n"
   ]
  },
  {
   "cell_type": "code",
   "execution_count": null,
   "id": "574a670b-f911-4d92-87fa-4af0b4421991",
   "metadata": {},
   "outputs": [],
   "source": []
  }
 ],
 "metadata": {
  "kernelspec": {
   "display_name": "Python 3 (ipykernel)",
   "language": "python",
   "name": "python3"
  },
  "language_info": {
   "codemirror_mode": {
    "name": "ipython",
    "version": 3
   },
   "file_extension": ".py",
   "mimetype": "text/x-python",
   "name": "python",
   "nbconvert_exporter": "python",
   "pygments_lexer": "ipython3",
   "version": "3.11.7"
  }
 },
 "nbformat": 4,
 "nbformat_minor": 5
}
