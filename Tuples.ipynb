{
 "cells": [
  {
   "cell_type": "markdown",
   "id": "cb076f4e-a81c-4c4f-9454-676abb8cf898",
   "metadata": {},
   "source": [
    "### Tuple Creation"
   ]
  },
  {
   "cell_type": "code",
   "execution_count": 2,
   "id": "b727a1e7-c73c-4418-9079-07e893a3fc22",
   "metadata": {},
   "outputs": [
    {
     "data": {
      "text/plain": [
       "tuple"
      ]
     },
     "execution_count": 2,
     "metadata": {},
     "output_type": "execute_result"
    }
   ],
   "source": [
    "tup1=()\n",
    "type(tup1)"
   ]
  },
  {
   "cell_type": "code",
   "execution_count": 3,
   "id": "4f22f1ed-0a6a-47ce-bfc0-25df49bb0937",
   "metadata": {},
   "outputs": [
    {
     "data": {
      "text/plain": [
       "tuple"
      ]
     },
     "execution_count": 3,
     "metadata": {},
     "output_type": "execute_result"
    }
   ],
   "source": [
    "tup2=tuple()\n",
    "type(tup2)"
   ]
  },
  {
   "cell_type": "code",
   "execution_count": 4,
   "id": "516cc9c6-7196-4c98-bfc1-be9b875ee468",
   "metadata": {},
   "outputs": [
    {
     "data": {
      "text/plain": [
       "5"
      ]
     },
     "execution_count": 4,
     "metadata": {},
     "output_type": "execute_result"
    }
   ],
   "source": [
    "tup1=(20,34,56,'siva','ram')\n",
    "len(tup1)"
   ]
  },
  {
   "cell_type": "code",
   "execution_count": 5,
   "id": "c2eb5e88-5d78-4e97-a99c-8979e12a81e9",
   "metadata": {},
   "outputs": [
    {
     "data": {
      "text/plain": [
       "7"
      ]
     },
     "execution_count": 5,
     "metadata": {},
     "output_type": "execute_result"
    }
   ],
   "source": [
    "b=(1,2,3,'sara',[4,5,8,'10'],(289,231),'OK')\n",
    "len(b)"
   ]
  },
  {
   "cell_type": "code",
   "execution_count": 6,
   "id": "67cbcade-53a6-4f7d-9516-fad1192fe6ba",
   "metadata": {},
   "outputs": [
    {
     "data": {
      "text/plain": [
       "8"
      ]
     },
     "execution_count": 6,
     "metadata": {},
     "output_type": "execute_result"
    }
   ],
   "source": [
    "b[4][2]"
   ]
  },
  {
   "cell_type": "code",
   "execution_count": 7,
   "id": "9a71f897-86e8-4c13-b00b-53e27f42750a",
   "metadata": {},
   "outputs": [
    {
     "name": "stdout",
     "output_type": "stream",
     "text": [
      "(1, 2, 3, 'sara', [4, 5, 8, 'New'], (289, 231), 'OK')\n"
     ]
    }
   ],
   "source": [
    "b[4][3]='New'\n",
    "print(b)"
   ]
  },
  {
   "cell_type": "code",
   "execution_count": 8,
   "id": "7bcc2ffe-04a4-4664-8144-f6b480672f43",
   "metadata": {},
   "outputs": [
    {
     "ename": "TypeError",
     "evalue": "'tuple' object does not support item assignment",
     "output_type": "error",
     "traceback": [
      "\u001b[1;31m---------------------------------------------------------------------------\u001b[0m",
      "\u001b[1;31mTypeError\u001b[0m                                 Traceback (most recent call last)",
      "Cell \u001b[1;32mIn[8], line 1\u001b[0m\n\u001b[1;32m----> 1\u001b[0m b[\u001b[38;5;241m3\u001b[39m]\u001b[38;5;241m=\u001b[39m\u001b[38;5;124m'\u001b[39m\u001b[38;5;124msriya\u001b[39m\u001b[38;5;124m'\u001b[39m\n\u001b[0;32m      2\u001b[0m \u001b[38;5;28mprint\u001b[39m(b)\n",
      "\u001b[1;31mTypeError\u001b[0m: 'tuple' object does not support item assignment"
     ]
    }
   ],
   "source": [
    "b[3]='sriya'\n",
    "print(b)"
   ]
  },
  {
   "cell_type": "code",
   "execution_count": 27,
   "id": "65d2aefb-408c-4bf5-94e5-bf7f2f20d940",
   "metadata": {},
   "outputs": [],
   "source": [
    "b=(1,2,3,'sara',[4,5,8,'10'],(289,231),'OK')"
   ]
  },
  {
   "cell_type": "code",
   "execution_count": 28,
   "id": "5f03bfac-b5d5-46a1-87c0-304f88347c45",
   "metadata": {},
   "outputs": [
    {
     "data": {
      "text/plain": [
       "[289, 231]"
      ]
     },
     "execution_count": 28,
     "metadata": {},
     "output_type": "execute_result"
    }
   ],
   "source": [
    "v=list(b[5])\n",
    "v"
   ]
  },
  {
   "cell_type": "code",
   "execution_count": 29,
   "id": "abdbb6a6-84d4-4c83-b023-01c0af7ba5dd",
   "metadata": {},
   "outputs": [
    {
     "data": {
      "text/plain": [
       "['28', 231]"
      ]
     },
     "execution_count": 29,
     "metadata": {},
     "output_type": "execute_result"
    }
   ],
   "source": [
    "v[0]='28'\n",
    "v"
   ]
  },
  {
   "cell_type": "code",
   "execution_count": 31,
   "id": "ee529af9-d69e-41d3-afaa-c4f982bee469",
   "metadata": {},
   "outputs": [
    {
     "data": {
      "text/plain": [
       "('28', 231)"
      ]
     },
     "execution_count": 31,
     "metadata": {},
     "output_type": "execute_result"
    }
   ],
   "source": [
    "w=tuple(v)\n",
    "w"
   ]
  },
  {
   "cell_type": "code",
   "execution_count": 32,
   "id": "f3fe85fe-f5a9-4554-862a-08203407e0d7",
   "metadata": {},
   "outputs": [
    {
     "data": {
      "text/plain": [
       "(1, 2, 3, 'sara', [4, 5, 8, '10'], '28', 231, 'OK')"
      ]
     },
     "execution_count": 32,
     "metadata": {},
     "output_type": "execute_result"
    }
   ],
   "source": [
    "b=b[:5]+w+b[6:]\n",
    "b"
   ]
  },
  {
   "cell_type": "code",
   "execution_count": 33,
   "id": "7a34f337-75a2-40be-b265-330d6548ce8f",
   "metadata": {},
   "outputs": [
    {
     "data": {
      "text/plain": [
       "[1, 2, 5, 6, 9]"
      ]
     },
     "execution_count": 33,
     "metadata": {},
     "output_type": "execute_result"
    }
   ],
   "source": [
    "tup=(5,6,2,1,9)\n",
    "sorted(tup)"
   ]
  },
  {
   "cell_type": "code",
   "execution_count": 34,
   "id": "37873f7c-df7d-4996-8aea-326ad28fbf26",
   "metadata": {},
   "outputs": [
    {
     "data": {
      "text/plain": [
       "[2.3, 4, 5, 6, 8]"
      ]
     },
     "execution_count": 34,
     "metadata": {},
     "output_type": "execute_result"
    }
   ],
   "source": [
    "tup1=(5,6,2.3,8,4)\n",
    "sorted(tup1)"
   ]
  },
  {
   "cell_type": "code",
   "execution_count": 35,
   "id": "b7e036dd-572f-4324-a21e-52b2ea640541",
   "metadata": {},
   "outputs": [
    {
     "ename": "TypeError",
     "evalue": "'<' not supported between instances of 'str' and 'int'",
     "output_type": "error",
     "traceback": [
      "\u001b[1;31m---------------------------------------------------------------------------\u001b[0m",
      "\u001b[1;31mTypeError\u001b[0m                                 Traceback (most recent call last)",
      "Cell \u001b[1;32mIn[35], line 2\u001b[0m\n\u001b[0;32m      1\u001b[0m tup2\u001b[38;5;241m=\u001b[39m(\u001b[38;5;241m5\u001b[39m,\u001b[38;5;241m3.3\u001b[39m,\u001b[38;5;241m6\u001b[39m,\u001b[38;5;241m1.3\u001b[39m,\u001b[38;5;124m'\u001b[39m\u001b[38;5;124msam\u001b[39m\u001b[38;5;124m'\u001b[39m,\u001b[38;5;124m'\u001b[39m\u001b[38;5;124ma\u001b[39m\u001b[38;5;124m'\u001b[39m)\n\u001b[1;32m----> 2\u001b[0m \u001b[38;5;28msorted\u001b[39m(tup2)\n",
      "\u001b[1;31mTypeError\u001b[0m: '<' not supported between instances of 'str' and 'int'"
     ]
    }
   ],
   "source": [
    "tup2=(5,3.3,6,1.3,'sam','a')\n",
    "sorted(tup2)"
   ]
  },
  {
   "cell_type": "code",
   "execution_count": 36,
   "id": "c8f843a4-8ceb-4d4c-be02-574bbe2b14b8",
   "metadata": {},
   "outputs": [
    {
     "data": {
      "text/plain": [
       "['a', 'c', 'd', 'g']"
      ]
     },
     "execution_count": 36,
     "metadata": {},
     "output_type": "execute_result"
    }
   ],
   "source": [
    "tup3=('c','d','a','g')\n",
    "sorted(tup3)"
   ]
  },
  {
   "cell_type": "markdown",
   "id": "a2f3bb85-99ca-405c-a3e6-0aea3e641165",
   "metadata": {},
   "source": [
    "### Tuple Indexing"
   ]
  },
  {
   "cell_type": "code",
   "execution_count": 2,
   "id": "c1f7c6cc-23eb-4229-8ca2-956fbf01e08a",
   "metadata": {},
   "outputs": [
    {
     "data": {
      "text/plain": [
       "[80, 100]"
      ]
     },
     "execution_count": 2,
     "metadata": {},
     "output_type": "execute_result"
    }
   ],
   "source": [
    "tup1=('siva',77,[80,100],[270,70],{'micky','lisa'},(10,20,30,40))\n",
    "tup1[2]"
   ]
  },
  {
   "cell_type": "code",
   "execution_count": 4,
   "id": "5b925d65-94e8-4638-b9f9-63e2e06330cf",
   "metadata": {},
   "outputs": [
    {
     "data": {
      "text/plain": [
       "80"
      ]
     },
     "execution_count": 4,
     "metadata": {},
     "output_type": "execute_result"
    }
   ],
   "source": [
    "tup1[2][0]"
   ]
  },
  {
   "cell_type": "code",
   "execution_count": 5,
   "id": "e8fe7118-bcba-4618-824b-e8a2e697e691",
   "metadata": {},
   "outputs": [
    {
     "data": {
      "text/plain": [
       "(10, 20, 30, 40)"
      ]
     },
     "execution_count": 5,
     "metadata": {},
     "output_type": "execute_result"
    }
   ],
   "source": [
    "tup1[-1]"
   ]
  },
  {
   "cell_type": "markdown",
   "id": "18fc446e-fcef-4343-b559-342c2f16bc97",
   "metadata": {},
   "source": [
    "### Tuple slicing"
   ]
  },
  {
   "cell_type": "code",
   "execution_count": 6,
   "id": "2fd26ee5-b37f-4fef-a6b7-e7a710b7fca5",
   "metadata": {},
   "outputs": [],
   "source": [
    "tuple1=('she','is','a','nice','girl')"
   ]
  },
  {
   "cell_type": "code",
   "execution_count": 7,
   "id": "8b1657e0-e0a0-4bec-95ca-b5a9926c2825",
   "metadata": {},
   "outputs": [
    {
     "data": {
      "text/plain": [
       "('she', 'is')"
      ]
     },
     "execution_count": 7,
     "metadata": {},
     "output_type": "execute_result"
    }
   ],
   "source": [
    "tuple1[0:2]"
   ]
  },
  {
   "cell_type": "code",
   "execution_count": 9,
   "id": "66f7a7f3-ad69-4140-b4df-6408c8712d67",
   "metadata": {},
   "outputs": [
    {
     "data": {
      "text/plain": [
       "('a', 'nice', 'girl')"
      ]
     },
     "execution_count": 9,
     "metadata": {},
     "output_type": "execute_result"
    }
   ],
   "source": [
    "tuple1[2:5]"
   ]
  },
  {
   "cell_type": "code",
   "execution_count": 11,
   "id": "5f6768c5-e94f-471c-babe-4aaa1a72261d",
   "metadata": {},
   "outputs": [
    {
     "data": {
      "text/plain": [
       "()"
      ]
     },
     "execution_count": 11,
     "metadata": {},
     "output_type": "execute_result"
    }
   ],
   "source": [
    "tuple1[-1:1]"
   ]
  },
  {
   "cell_type": "markdown",
   "id": "3d259c13-049c-40b0-83af-08031a0dd08e",
   "metadata": {},
   "source": [
    "### Remove & Change Items"
   ]
  },
  {
   "cell_type": "code",
   "execution_count": 12,
   "id": "14ade326-513c-4af6-a8f4-9df79b139c7c",
   "metadata": {},
   "outputs": [
    {
     "data": {
      "text/plain": [
       "('she', 'is', 'a', 'nice', 'girl')"
      ]
     },
     "execution_count": 12,
     "metadata": {},
     "output_type": "execute_result"
    }
   ],
   "source": [
    "tuple1"
   ]
  },
  {
   "cell_type": "code",
   "execution_count": 13,
   "id": "0064fe09-4b60-4e99-91b2-3f25bdf318b6",
   "metadata": {},
   "outputs": [
    {
     "ename": "TypeError",
     "evalue": "'tuple' object doesn't support item deletion",
     "output_type": "error",
     "traceback": [
      "\u001b[1;31m---------------------------------------------------------------------------\u001b[0m",
      "\u001b[1;31mTypeError\u001b[0m                                 Traceback (most recent call last)",
      "Cell \u001b[1;32mIn[13], line 1\u001b[0m\n\u001b[1;32m----> 1\u001b[0m \u001b[38;5;28;01mdel\u001b[39;00m tuple1[\u001b[38;5;241m2\u001b[39m]\n",
      "\u001b[1;31mTypeError\u001b[0m: 'tuple' object doesn't support item deletion"
     ]
    }
   ],
   "source": [
    "del tuple1[2] # Tuples are immutable."
   ]
  },
  {
   "cell_type": "markdown",
   "id": "63f3f6c8-39fc-4278-bdbe-40151e1d2bfc",
   "metadata": {},
   "source": [
    "### Tuples Methods"
   ]
  },
  {
   "cell_type": "code",
   "execution_count": 14,
   "id": "6b8c47b8-dfda-4765-9dc3-fd2fa3818221",
   "metadata": {},
   "outputs": [],
   "source": [
    "tuple2=('one','two', 'two','three','four','one','two','three')"
   ]
  },
  {
   "cell_type": "markdown",
   "id": "6049ce48-4781-4c6e-8afe-0f27a660642a",
   "metadata": {},
   "source": [
    "### Count"
   ]
  },
  {
   "cell_type": "code",
   "execution_count": 15,
   "id": "24369594-c8e7-4646-bab3-76b46bdc168a",
   "metadata": {},
   "outputs": [
    {
     "data": {
      "text/plain": [
       "2"
      ]
     },
     "execution_count": 15,
     "metadata": {},
     "output_type": "execute_result"
    }
   ],
   "source": [
    "tuple2.count('one')"
   ]
  },
  {
   "cell_type": "code",
   "execution_count": 16,
   "id": "e9a38d10-3d6f-46e7-997e-92a561e79945",
   "metadata": {},
   "outputs": [
    {
     "data": {
      "text/plain": [
       "3"
      ]
     },
     "execution_count": 16,
     "metadata": {},
     "output_type": "execute_result"
    }
   ],
   "source": [
    "tuple2.count('two')"
   ]
  },
  {
   "cell_type": "markdown",
   "id": "39d9045e-5cae-4a49-a589-e39a872b3d1c",
   "metadata": {},
   "source": [
    "### Index Position"
   ]
  },
  {
   "cell_type": "code",
   "execution_count": 18,
   "id": "64f44c8b-0ed6-4226-96b4-2ce86729d9e3",
   "metadata": {},
   "outputs": [
    {
     "data": {
      "text/plain": [
       "0"
      ]
     },
     "execution_count": 18,
     "metadata": {},
     "output_type": "execute_result"
    }
   ],
   "source": [
    "tuple2.index('one')"
   ]
  },
  {
   "cell_type": "code",
   "execution_count": 19,
   "id": "7b878e92-2475-4bc2-b2f1-92ce770c40a4",
   "metadata": {},
   "outputs": [
    {
     "data": {
      "text/plain": [
       "1"
      ]
     },
     "execution_count": 19,
     "metadata": {},
     "output_type": "execute_result"
    }
   ],
   "source": [
    "tuple2.index('two')"
   ]
  },
  {
   "cell_type": "code",
   "execution_count": 21,
   "id": "56909c95-73ef-4b63-91cb-d8646c20b933",
   "metadata": {},
   "outputs": [
    {
     "ename": "ValueError",
     "evalue": "tuple.index(x): x not in tuple",
     "output_type": "error",
     "traceback": [
      "\u001b[1;31m---------------------------------------------------------------------------\u001b[0m",
      "\u001b[1;31mValueError\u001b[0m                                Traceback (most recent call last)",
      "Cell \u001b[1;32mIn[21], line 1\u001b[0m\n\u001b[1;32m----> 1\u001b[0m tuple2\u001b[38;5;241m.\u001b[39mindex(\u001b[38;5;124m'\u001b[39m\u001b[38;5;124mfive\u001b[39m\u001b[38;5;124m'\u001b[39m)\n",
      "\u001b[1;31mValueError\u001b[0m: tuple.index(x): x not in tuple"
     ]
    }
   ],
   "source": [
    "tuple2.index('five')"
   ]
  },
  {
   "cell_type": "markdown",
   "id": "5d1e85ba-7131-4084-a29d-e9f9b76c6cb8",
   "metadata": {},
   "source": [
    "### Sorting"
   ]
  },
  {
   "cell_type": "code",
   "execution_count": 22,
   "id": "1dc2c896-ebba-41bd-a1c1-1c9dc1884c8a",
   "metadata": {},
   "outputs": [],
   "source": [
    "tuple1=(43,56,12,34,87,23,12,50,62)"
   ]
  },
  {
   "cell_type": "code",
   "execution_count": 24,
   "id": "f7c7744b-e64c-4dfb-9121-9907b5775e0d",
   "metadata": {},
   "outputs": [
    {
     "data": {
      "text/plain": [
       "[12, 12, 23, 34, 43, 50, 56, 62, 87]"
      ]
     },
     "execution_count": 24,
     "metadata": {},
     "output_type": "execute_result"
    }
   ],
   "source": [
    "sorted(tuple1)"
   ]
  },
  {
   "cell_type": "code",
   "execution_count": 25,
   "id": "b2ec51f0-1c4b-4f7e-aad8-d2a9d91099f3",
   "metadata": {},
   "outputs": [
    {
     "data": {
      "text/plain": [
       "[87, 62, 56, 50, 43, 34, 23, 12, 12]"
      ]
     },
     "execution_count": 25,
     "metadata": {},
     "output_type": "execute_result"
    }
   ],
   "source": [
    "sorted(tuple1,reverse=True)"
   ]
  },
  {
   "cell_type": "code",
   "execution_count": 26,
   "id": "630107f3-3907-4d46-820b-610599fa2122",
   "metadata": {},
   "outputs": [
    {
     "data": {
      "text/plain": [
       "(43, 56, 12, 34, 87, 23, 12, 50, 62)"
      ]
     },
     "execution_count": 26,
     "metadata": {},
     "output_type": "execute_result"
    }
   ],
   "source": [
    "tuple1"
   ]
  },
  {
   "cell_type": "code",
   "execution_count": 27,
   "id": "6c4fc896-7cdc-499e-98c7-8d5fe25b31d3",
   "metadata": {},
   "outputs": [
    {
     "data": {
      "text/plain": [
       "(43, 56, 12, 34, 87, 23, 12, 50, 62)"
      ]
     },
     "execution_count": 27,
     "metadata": {},
     "output_type": "execute_result"
    }
   ],
   "source": [
    "tuple1"
   ]
  },
  {
   "cell_type": "markdown",
   "id": "bda0b71a-523f-4ad0-894c-a48d21a827f6",
   "metadata": {},
   "source": [
    "### Tuple Membership"
   ]
  },
  {
   "cell_type": "code",
   "execution_count": 28,
   "id": "ce9c9c3a-96b9-4ad5-a332-38f57f4fc65a",
   "metadata": {},
   "outputs": [],
   "source": [
    "tuple1 = ('one','two','three','four','five','six','seven','eight')"
   ]
  },
  {
   "cell_type": "code",
   "execution_count": 29,
   "id": "96f0810e-d5ef-4e2d-b9ba-aaf58eb1c604",
   "metadata": {},
   "outputs": [
    {
     "data": {
      "text/plain": [
       "True"
      ]
     },
     "execution_count": 29,
     "metadata": {},
     "output_type": "execute_result"
    }
   ],
   "source": [
    "'one' in tuple1"
   ]
  },
  {
   "cell_type": "code",
   "execution_count": 30,
   "id": "b3752b17-8fae-4319-9e56-3891055a7fb4",
   "metadata": {},
   "outputs": [
    {
     "data": {
      "text/plain": [
       "False"
      ]
     },
     "execution_count": 30,
     "metadata": {},
     "output_type": "execute_result"
    }
   ],
   "source": [
    "'nine' in tuple1"
   ]
  }
 ],
 "metadata": {
  "kernelspec": {
   "display_name": "Python 3 (ipykernel)",
   "language": "python",
   "name": "python3"
  },
  "language_info": {
   "codemirror_mode": {
    "name": "ipython",
    "version": 3
   },
   "file_extension": ".py",
   "mimetype": "text/x-python",
   "name": "python",
   "nbconvert_exporter": "python",
   "pygments_lexer": "ipython3",
   "version": "3.11.7"
  }
 },
 "nbformat": 4,
 "nbformat_minor": 5
}
